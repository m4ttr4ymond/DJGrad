{
 "cells": [
  {
   "cell_type": "markdown",
   "metadata": {},
   "source": [
    "## Imports"
   ]
  },
  {
   "cell_type": "code",
   "execution_count": 1,
   "metadata": {},
   "outputs": [
    {
     "name": "stdout",
     "output_type": "stream",
     "text": [
      "Requirement already satisfied: Pillow in /root/anaconda/lib/python3.8/site-packages (8.0.1)\n",
      "Note: you may need to restart the kernel to use updated packages.\n"
     ]
    }
   ],
   "source": [
    "pip install Pillow"
   ]
  },
  {
   "cell_type": "markdown",
   "metadata": {},
   "source": [
    "---"
   ]
  },
  {
   "cell_type": "code",
   "execution_count": 1,
   "metadata": {},
   "outputs": [],
   "source": [
    "import os\n",
    "from PIL import Image\n",
    "import numpy as np\n",
    "from tqdm.notebook import tqdm\n",
    "from sklearn.preprocessing import LabelEncoder\n",
    "from sklearn.model_selection import train_test_split"
   ]
  },
  {
   "cell_type": "code",
   "execution_count": 2,
   "metadata": {},
   "outputs": [],
   "source": [
    "fp_local = '/home/jovyan/docker/src/python/temp_test/DJGrad'\n",
    "fp_data = os.path.join(fp_local, 'data')"
   ]
  },
  {
   "cell_type": "code",
   "execution_count": 3,
   "metadata": {},
   "outputs": [
    {
     "data": {
      "application/vnd.jupyter.widget-view+json": {
       "model_id": "c8f3dc2f3c714b5a9470f99eb48a0727",
       "version_major": 2,
       "version_minor": 0
      },
      "text/plain": [
       "HBox(children=(HTML(value=''), FloatProgress(value=0.0, max=44.0), HTML(value='')))"
      ]
     },
     "metadata": {},
     "output_type": "display_data"
    },
    {
     "name": "stdout",
     "output_type": "stream",
     "text": [
      "\n"
     ]
    },
    {
     "data": {
      "application/vnd.jupyter.widget-view+json": {
       "model_id": "92cd5a0f504a4f9eaf8fac4e7caf2d64",
       "version_major": 2,
       "version_minor": 0
      },
      "text/plain": [
       "HBox(children=(HTML(value=''), FloatProgress(value=0.0, max=44.0), HTML(value='')))"
      ]
     },
     "metadata": {},
     "output_type": "display_data"
    },
    {
     "name": "stdout",
     "output_type": "stream",
     "text": [
      "\n"
     ]
    },
    {
     "data": {
      "application/vnd.jupyter.widget-view+json": {
       "model_id": "1986376f711f49a5af6a4e9914c01751",
       "version_major": 2,
       "version_minor": 0
      },
      "text/plain": [
       "HBox(children=(HTML(value=''), FloatProgress(value=0.0, max=45.0), HTML(value='')))"
      ]
     },
     "metadata": {},
     "output_type": "display_data"
    },
    {
     "name": "stdout",
     "output_type": "stream",
     "text": [
      "\n"
     ]
    },
    {
     "data": {
      "application/vnd.jupyter.widget-view+json": {
       "model_id": "583641e4a50442e3958a8a9846b95b8f",
       "version_major": 2,
       "version_minor": 0
      },
      "text/plain": [
       "HBox(children=(HTML(value=''), FloatProgress(value=0.0, max=43.0), HTML(value='')))"
      ]
     },
     "metadata": {},
     "output_type": "display_data"
    },
    {
     "name": "stdout",
     "output_type": "stream",
     "text": [
      "\n"
     ]
    },
    {
     "data": {
      "application/vnd.jupyter.widget-view+json": {
       "model_id": "35a5e53c8c6a4171bdd9773b8c249059",
       "version_major": 2,
       "version_minor": 0
      },
      "text/plain": [
       "HBox(children=(HTML(value=''), FloatProgress(value=0.0, max=42.0), HTML(value='')))"
      ]
     },
     "metadata": {},
     "output_type": "display_data"
    },
    {
     "name": "stdout",
     "output_type": "stream",
     "text": [
      "\n"
     ]
    },
    {
     "data": {
      "application/vnd.jupyter.widget-view+json": {
       "model_id": "e7f4888901b4458f9a1be9d891ae4ccd",
       "version_major": 2,
       "version_minor": 0
      },
      "text/plain": [
       "HBox(children=(HTML(value=''), FloatProgress(value=0.0, max=43.0), HTML(value='')))"
      ]
     },
     "metadata": {},
     "output_type": "display_data"
    },
    {
     "name": "stdout",
     "output_type": "stream",
     "text": [
      "\n"
     ]
    },
    {
     "data": {
      "application/vnd.jupyter.widget-view+json": {
       "model_id": "8d9c85f63307496fbf5bc89acded2dcd",
       "version_major": 2,
       "version_minor": 0
      },
      "text/plain": [
       "HBox(children=(HTML(value=''), FloatProgress(value=0.0, max=345.0), HTML(value='')))"
      ]
     },
     "metadata": {},
     "output_type": "display_data"
    },
    {
     "name": "stdout",
     "output_type": "stream",
     "text": [
      "\n"
     ]
    },
    {
     "data": {
      "application/vnd.jupyter.widget-view+json": {
       "model_id": "d2ac3f77f72f4b28b9852f542490a022",
       "version_major": 2,
       "version_minor": 0
      },
      "text/plain": [
       "HBox(children=(HTML(value=''), FloatProgress(value=0.0, max=342.0), HTML(value='')))"
      ]
     },
     "metadata": {},
     "output_type": "display_data"
    },
    {
     "name": "stdout",
     "output_type": "stream",
     "text": [
      "\n"
     ]
    },
    {
     "data": {
      "application/vnd.jupyter.widget-view+json": {
       "model_id": "8e28cf6ba2fb44d9bed2bbe4bdf41f1a",
       "version_major": 2,
       "version_minor": 0
      },
      "text/plain": [
       "HBox(children=(HTML(value=''), FloatProgress(value=0.0, max=348.0), HTML(value='')))"
      ]
     },
     "metadata": {},
     "output_type": "display_data"
    },
    {
     "name": "stdout",
     "output_type": "stream",
     "text": [
      "\n"
     ]
    }
   ],
   "source": [
    "y = []\n",
    "x = []\n",
    "\n",
    "for directory in os.listdir(fp_data):\n",
    "    for label in os.listdir(os.path.join(fp_data, directory)):\n",
    "        files = os.listdir(os.path.join(fp_data, directory,label))\n",
    "        for file in tqdm(files,total=len(files)):\n",
    "            if '.jpg' not in file: continue\n",
    "            y.append(label)\n",
    "            x.append(np.asarray(Image.open(os.path.join(fp_data, directory,label,file))))\n",
    "\n",
    "le = LabelEncoder()\n",
    "\n",
    "y = np.array(le.fit_transform(y))\n",
    "x = np.array(x)"
   ]
  },
  {
   "cell_type": "code",
   "execution_count": 4,
   "metadata": {},
   "outputs": [
    {
     "data": {
      "text/plain": [
       "((1295, 500, 500, 3), (1295,))"
      ]
     },
     "execution_count": 4,
     "metadata": {},
     "output_type": "execute_result"
    }
   ],
   "source": [
    "x.shape, y.shape"
   ]
  },
  {
   "cell_type": "code",
   "execution_count": 5,
   "metadata": {},
   "outputs": [],
   "source": [
    "x_train,x_test,y_train,y_test = train_test_split(x,y,shuffle=True)"
   ]
  },
  {
   "cell_type": "code",
   "execution_count": 6,
   "metadata": {},
   "outputs": [],
   "source": [
    "import tensorflow as tf\n",
    "\n",
    "from tensorflow import keras\n",
    "from tensorflow.keras import layers\n",
    "from tensorflow.keras.models import Sequential\n",
    "\n",
    "num_classes = 3"
   ]
  },
  {
   "cell_type": "code",
   "execution_count": 7,
   "metadata": {},
   "outputs": [],
   "source": [
    "batch_size=1\n",
    "train_dataset = tf.data.Dataset.from_tensor_slices((x_train,y_train)).shuffle(100).batch(batch_size,True)\n",
    "test_dataset = tf.data.Dataset.from_tensor_slices((x_test,y_test)).shuffle(100).batch(batch_size,True)"
   ]
  },
  {
   "cell_type": "code",
   "execution_count": 9,
   "metadata": {},
   "outputs": [],
   "source": [
    "model = Sequential([\n",
    "    layers.Rescaling(1./255, input_shape=(*x.shape[1:],)),\n",
    "    layers.Conv2D(16, 3, padding='same', activation='relu'),\n",
    "    layers.MaxPooling2D(),\n",
    "#     layers.Conv2D(32, 3, padding='same', activation='relu'),\n",
    "#     layers.MaxPooling2D(),\n",
    "    layers.Conv2D(64, 3, padding='same', activation='relu'),\n",
    "    layers.MaxPooling2D(),\n",
    "#     layers.Conv2D(128, 3, padding='same', activation='relu'),\n",
    "#     layers.MaxPooling2D(),\n",
    "#     layers.Conv2D(256, 3, padding='same', activation='relu'),\n",
    "#     layers.MaxPooling2D(),\n",
    "    layers.Flatten(),\n",
    "    layers.Dropout(0.9),\n",
    "#     layers.Dense(1024, activation='relu'),\n",
    "    layers.Dense(128, activation='relu'),\n",
    "#     layers.Dense(16, activation='relu'),\n",
    "    layers.Dense(num_classes, 'softmax')\n",
    "])"
   ]
  },
  {
   "cell_type": "code",
   "execution_count": 10,
   "metadata": {},
   "outputs": [],
   "source": [
    "model.compile(optimizer='adam',\n",
    "              loss=tf.keras.losses.SparseCategoricalCrossentropy(),\n",
    "              metrics=['accuracy'])"
   ]
  },
  {
   "cell_type": "code",
   "execution_count": 11,
   "metadata": {
    "scrolled": true
   },
   "outputs": [
    {
     "name": "stdout",
     "output_type": "stream",
     "text": [
      "Epoch 1/100\n",
      "15/15 [==============================] - 4s 120ms/step - loss: 7.6016 - accuracy: 0.3531 - val_loss: 1.1052 - val_accuracy: 0.3313\n",
      "Epoch 2/100\n",
      "15/15 [==============================] - 2s 118ms/step - loss: 1.0911 - accuracy: 0.3260 - val_loss: 1.0891 - val_accuracy: 0.3375\n",
      "Epoch 3/100\n",
      "15/15 [==============================] - 2s 112ms/step - loss: 1.0721 - accuracy: 0.3615 - val_loss: 1.0674 - val_accuracy: 0.3375\n",
      "Epoch 4/100\n",
      "15/15 [==============================] - 2s 115ms/step - loss: 1.0148 - accuracy: 0.4479 - val_loss: 0.9937 - val_accuracy: 0.3938\n",
      "Epoch 5/100\n",
      "15/15 [==============================] - 2s 113ms/step - loss: 0.9462 - accuracy: 0.5094 - val_loss: 0.9895 - val_accuracy: 0.4437\n",
      "Epoch 6/100\n",
      "15/15 [==============================] - 2s 115ms/step - loss: 0.9072 - accuracy: 0.5583 - val_loss: 0.8958 - val_accuracy: 0.5469\n",
      "Epoch 7/100\n",
      "15/15 [==============================] - 2s 122ms/step - loss: 0.8731 - accuracy: 0.5771 - val_loss: 0.9599 - val_accuracy: 0.4969\n",
      "Epoch 8/100\n",
      "15/15 [==============================] - 2s 113ms/step - loss: 0.8738 - accuracy: 0.5844 - val_loss: 0.8828 - val_accuracy: 0.5437\n",
      "Epoch 9/100\n",
      "15/15 [==============================] - 2s 115ms/step - loss: 0.8650 - accuracy: 0.5708 - val_loss: 0.9008 - val_accuracy: 0.5344\n",
      "Epoch 10/100\n",
      "15/15 [==============================] - 2s 116ms/step - loss: 0.8425 - accuracy: 0.5906 - val_loss: 0.8718 - val_accuracy: 0.5688\n",
      "Epoch 11/100\n",
      "15/15 [==============================] - 2s 119ms/step - loss: 0.8158 - accuracy: 0.6062 - val_loss: 0.8723 - val_accuracy: 0.5500\n",
      "Epoch 12/100\n",
      "15/15 [==============================] - 2s 118ms/step - loss: 0.8038 - accuracy: 0.6083 - val_loss: 0.8724 - val_accuracy: 0.5562\n",
      "Epoch 13/100\n",
      "15/15 [==============================] - 2s 115ms/step - loss: 0.7824 - accuracy: 0.6208 - val_loss: 0.8821 - val_accuracy: 0.5500\n",
      "Epoch 14/100\n",
      "15/15 [==============================] - 2s 115ms/step - loss: 0.7730 - accuracy: 0.6219 - val_loss: 0.8234 - val_accuracy: 0.5813\n",
      "Epoch 15/100\n",
      "15/15 [==============================] - 2s 117ms/step - loss: 0.7566 - accuracy: 0.6292 - val_loss: 0.8879 - val_accuracy: 0.5344\n",
      "Epoch 16/100\n",
      "15/15 [==============================] - 2s 116ms/step - loss: 0.7565 - accuracy: 0.6219 - val_loss: 0.8093 - val_accuracy: 0.6031\n",
      "Epoch 17/100\n",
      "15/15 [==============================] - 2s 115ms/step - loss: 0.7402 - accuracy: 0.6302 - val_loss: 0.8798 - val_accuracy: 0.5281\n",
      "Epoch 18/100\n",
      "15/15 [==============================] - 2s 116ms/step - loss: 0.7227 - accuracy: 0.6396 - val_loss: 0.9348 - val_accuracy: 0.5344\n",
      "Epoch 19/100\n",
      "15/15 [==============================] - 2s 116ms/step - loss: 0.7390 - accuracy: 0.6292 - val_loss: 0.8012 - val_accuracy: 0.5875\n",
      "Epoch 20/100\n",
      "15/15 [==============================] - 2s 117ms/step - loss: 0.6512 - accuracy: 0.6438 - val_loss: 0.7790 - val_accuracy: 0.5844\n",
      "Epoch 21/100\n",
      "15/15 [==============================] - 2s 117ms/step - loss: 0.5610 - accuracy: 0.6271 - val_loss: 0.7381 - val_accuracy: 0.5844\n",
      "Epoch 22/100\n",
      "15/15 [==============================] - 2s 121ms/step - loss: 0.5399 - accuracy: 0.6510 - val_loss: 1.1713 - val_accuracy: 0.4969\n",
      "Epoch 23/100\n",
      "15/15 [==============================] - 2s 116ms/step - loss: 0.5761 - accuracy: 0.6458 - val_loss: 0.7029 - val_accuracy: 0.5938\n",
      "Epoch 24/100\n",
      "15/15 [==============================] - 2s 115ms/step - loss: 0.4890 - accuracy: 0.6615 - val_loss: 0.7648 - val_accuracy: 0.5875\n",
      "Epoch 25/100\n",
      "15/15 [==============================] - 2s 115ms/step - loss: 0.4662 - accuracy: 0.7115 - val_loss: 0.7139 - val_accuracy: 0.7344\n",
      "Epoch 26/100\n",
      "15/15 [==============================] - 2s 116ms/step - loss: 0.4073 - accuracy: 0.8031 - val_loss: 0.6630 - val_accuracy: 0.7625\n",
      "Epoch 27/100\n",
      "15/15 [==============================] - 2s 115ms/step - loss: 0.3548 - accuracy: 0.8302 - val_loss: 0.7309 - val_accuracy: 0.7531\n",
      "Epoch 28/100\n",
      "15/15 [==============================] - 2s 116ms/step - loss: 0.3180 - accuracy: 0.8594 - val_loss: 0.6371 - val_accuracy: 0.7500\n",
      "Epoch 29/100\n",
      "15/15 [==============================] - 2s 117ms/step - loss: 0.2757 - accuracy: 0.8823 - val_loss: 0.6564 - val_accuracy: 0.7719\n",
      "Epoch 30/100\n",
      "15/15 [==============================] - 2s 117ms/step - loss: 0.2137 - accuracy: 0.9115 - val_loss: 0.7234 - val_accuracy: 0.7688\n",
      "Epoch 31/100\n",
      "15/15 [==============================] - 2s 116ms/step - loss: 0.1828 - accuracy: 0.9292 - val_loss: 0.7219 - val_accuracy: 0.7719\n",
      "Epoch 32/100\n",
      "15/15 [==============================] - 2s 116ms/step - loss: 0.1551 - accuracy: 0.9448 - val_loss: 0.8504 - val_accuracy: 0.7469\n",
      "Epoch 33/100\n",
      "15/15 [==============================] - 2s 116ms/step - loss: 0.1388 - accuracy: 0.9563 - val_loss: 0.8516 - val_accuracy: 0.7563\n",
      "Epoch 34/100\n",
      "15/15 [==============================] - 2s 118ms/step - loss: 0.0971 - accuracy: 0.9719 - val_loss: 0.8478 - val_accuracy: 0.7656\n",
      "Epoch 35/100\n",
      "15/15 [==============================] - 2s 115ms/step - loss: 0.0813 - accuracy: 0.9792 - val_loss: 0.8469 - val_accuracy: 0.7688\n",
      "Epoch 36/100\n",
      "15/15 [==============================] - 2s 116ms/step - loss: 0.0807 - accuracy: 0.9760 - val_loss: 0.8692 - val_accuracy: 0.7812\n",
      "Epoch 37/100\n",
      "15/15 [==============================] - 2s 120ms/step - loss: 0.0639 - accuracy: 0.9833 - val_loss: 1.0078 - val_accuracy: 0.7500\n",
      "Epoch 38/100\n",
      "15/15 [==============================] - 2s 118ms/step - loss: 0.0583 - accuracy: 0.9833 - val_loss: 0.9382 - val_accuracy: 0.7719\n",
      "Epoch 39/100\n",
      "15/15 [==============================] - 2s 116ms/step - loss: 0.0412 - accuracy: 0.9917 - val_loss: 1.1778 - val_accuracy: 0.7406\n",
      "Epoch 40/100\n",
      "15/15 [==============================] - 2s 116ms/step - loss: 0.0457 - accuracy: 0.9875 - val_loss: 1.1247 - val_accuracy: 0.7531\n",
      "Epoch 41/100\n",
      "15/15 [==============================] - 2s 116ms/step - loss: 0.0350 - accuracy: 0.9927 - val_loss: 1.0521 - val_accuracy: 0.7563\n",
      "Epoch 42/100\n",
      "15/15 [==============================] - 2s 116ms/step - loss: 0.0293 - accuracy: 0.9917 - val_loss: 1.4552 - val_accuracy: 0.7219\n",
      "Epoch 43/100\n",
      "15/15 [==============================] - 2s 117ms/step - loss: 0.0301 - accuracy: 0.9927 - val_loss: 1.2223 - val_accuracy: 0.7656\n",
      "Epoch 44/100\n",
      "15/15 [==============================] - 2s 116ms/step - loss: 0.0255 - accuracy: 0.9917 - val_loss: 1.3347 - val_accuracy: 0.7531\n",
      "Epoch 45/100\n",
      "15/15 [==============================] - 2s 116ms/step - loss: 0.0188 - accuracy: 0.9958 - val_loss: 1.2190 - val_accuracy: 0.7656\n",
      "Epoch 46/100\n",
      "15/15 [==============================] - 2s 117ms/step - loss: 0.0148 - accuracy: 0.9990 - val_loss: 1.2877 - val_accuracy: 0.7688\n",
      "Epoch 47/100\n",
      "15/15 [==============================] - 2s 116ms/step - loss: 0.0189 - accuracy: 0.9958 - val_loss: 1.4081 - val_accuracy: 0.7281\n",
      "Epoch 48/100\n",
      "15/15 [==============================] - 2s 118ms/step - loss: 0.0168 - accuracy: 0.9969 - val_loss: 1.2078 - val_accuracy: 0.7688\n",
      "Epoch 49/100\n",
      "15/15 [==============================] - 2s 116ms/step - loss: 0.0196 - accuracy: 0.9969 - val_loss: 1.1321 - val_accuracy: 0.7531\n",
      "Epoch 50/100\n",
      "15/15 [==============================] - 2s 117ms/step - loss: 0.0221 - accuracy: 0.9927 - val_loss: 1.4140 - val_accuracy: 0.7500\n",
      "Epoch 51/100\n",
      "15/15 [==============================] - 2s 116ms/step - loss: 0.0157 - accuracy: 0.9979 - val_loss: 1.1198 - val_accuracy: 0.7719\n",
      "Epoch 52/100\n",
      "15/15 [==============================] - 2s 117ms/step - loss: 0.0220 - accuracy: 0.9937 - val_loss: 1.2281 - val_accuracy: 0.7719\n",
      "Epoch 53/100\n",
      "15/15 [==============================] - 2s 118ms/step - loss: 0.0289 - accuracy: 0.9958 - val_loss: 1.2841 - val_accuracy: 0.7594\n",
      "Epoch 54/100\n",
      "15/15 [==============================] - 2s 117ms/step - loss: 0.0222 - accuracy: 0.9948 - val_loss: 1.1503 - val_accuracy: 0.7656\n",
      "Epoch 55/100\n",
      "15/15 [==============================] - 2s 118ms/step - loss: 0.0253 - accuracy: 0.9937 - val_loss: 1.1147 - val_accuracy: 0.7719\n",
      "Epoch 56/100\n",
      "15/15 [==============================] - 2s 121ms/step - loss: 0.0202 - accuracy: 0.9927 - val_loss: 1.1250 - val_accuracy: 0.7625\n",
      "Epoch 57/100\n",
      "15/15 [==============================] - 2s 117ms/step - loss: 0.0126 - accuracy: 0.9979 - val_loss: 1.1798 - val_accuracy: 0.7594\n"
     ]
    },
    {
     "name": "stdout",
     "output_type": "stream",
     "text": [
      "Epoch 58/100\n",
      "15/15 [==============================] - 2s 116ms/step - loss: 0.0059 - accuracy: 0.9990 - val_loss: 1.2084 - val_accuracy: 0.7719\n",
      "Epoch 59/100\n",
      "15/15 [==============================] - 2s 116ms/step - loss: 0.0091 - accuracy: 0.9969 - val_loss: 1.0933 - val_accuracy: 0.7625\n",
      "Epoch 60/100\n",
      "15/15 [==============================] - 2s 119ms/step - loss: 0.0103 - accuracy: 0.9979 - val_loss: 1.4325 - val_accuracy: 0.7437\n",
      "Epoch 61/100\n",
      "15/15 [==============================] - 2s 118ms/step - loss: 0.0140 - accuracy: 0.9979 - val_loss: 1.1522 - val_accuracy: 0.7812\n",
      "Epoch 62/100\n",
      "15/15 [==============================] - 2s 116ms/step - loss: 0.0036 - accuracy: 1.0000 - val_loss: 1.1260 - val_accuracy: 0.7875\n",
      "Epoch 63/100\n",
      "15/15 [==============================] - 2s 118ms/step - loss: 0.0049 - accuracy: 0.9990 - val_loss: 1.5717 - val_accuracy: 0.7563\n",
      "Epoch 64/100\n",
      "15/15 [==============================] - 2s 118ms/step - loss: 0.0115 - accuracy: 0.9958 - val_loss: 1.2079 - val_accuracy: 0.7625\n",
      "Epoch 65/100\n",
      "15/15 [==============================] - 2s 116ms/step - loss: 0.0075 - accuracy: 0.9990 - val_loss: 1.4116 - val_accuracy: 0.7531\n",
      "Epoch 66/100\n",
      "15/15 [==============================] - 2s 116ms/step - loss: 0.0074 - accuracy: 0.9990 - val_loss: 1.2004 - val_accuracy: 0.7781\n",
      "Epoch 67/100\n",
      "15/15 [==============================] - 2s 116ms/step - loss: 0.0041 - accuracy: 0.9990 - val_loss: 1.2994 - val_accuracy: 0.7781\n",
      "Epoch 68/100\n",
      "15/15 [==============================] - 2s 117ms/step - loss: 0.0040 - accuracy: 0.9990 - val_loss: 1.2660 - val_accuracy: 0.7781\n",
      "Epoch 69/100\n",
      "15/15 [==============================] - 2s 117ms/step - loss: 0.0020 - accuracy: 1.0000 - val_loss: 1.2903 - val_accuracy: 0.7812\n",
      "Epoch 70/100\n",
      "15/15 [==============================] - 2s 117ms/step - loss: 0.0013 - accuracy: 1.0000 - val_loss: 1.2564 - val_accuracy: 0.7906\n",
      "Epoch 71/100\n",
      "15/15 [==============================] - 2s 118ms/step - loss: 0.0015 - accuracy: 1.0000 - val_loss: 1.3008 - val_accuracy: 0.7844\n",
      "Epoch 72/100\n",
      "15/15 [==============================] - 2s 119ms/step - loss: 0.0023 - accuracy: 1.0000 - val_loss: 1.3723 - val_accuracy: 0.7781\n",
      "Epoch 73/100\n",
      "15/15 [==============================] - 2s 116ms/step - loss: 0.0020 - accuracy: 1.0000 - val_loss: 1.3374 - val_accuracy: 0.7531\n",
      "Epoch 74/100\n",
      "15/15 [==============================] - 2s 117ms/step - loss: 0.0021 - accuracy: 1.0000 - val_loss: 1.4353 - val_accuracy: 0.7875\n",
      "Epoch 75/100\n",
      "15/15 [==============================] - 2s 116ms/step - loss: 0.0011 - accuracy: 1.0000 - val_loss: 1.3158 - val_accuracy: 0.7750\n",
      "Epoch 76/100\n",
      "15/15 [==============================] - 2s 118ms/step - loss: 0.0016 - accuracy: 1.0000 - val_loss: 1.3138 - val_accuracy: 0.7625\n",
      "Epoch 77/100\n",
      "15/15 [==============================] - 2s 117ms/step - loss: 0.0012 - accuracy: 1.0000 - val_loss: 1.3533 - val_accuracy: 0.7781\n",
      "Epoch 78/100\n",
      "15/15 [==============================] - 2s 118ms/step - loss: 0.0025 - accuracy: 1.0000 - val_loss: 1.3711 - val_accuracy: 0.7594\n",
      "Epoch 79/100\n",
      "15/15 [==============================] - 2s 118ms/step - loss: 0.0016 - accuracy: 1.0000 - val_loss: 1.5030 - val_accuracy: 0.7781\n",
      "Epoch 80/100\n",
      "15/15 [==============================] - 2s 116ms/step - loss: 0.0062 - accuracy: 0.9979 - val_loss: 1.5763 - val_accuracy: 0.7531\n",
      "Epoch 81/100\n",
      "15/15 [==============================] - 2s 117ms/step - loss: 0.0055 - accuracy: 0.9979 - val_loss: 1.2574 - val_accuracy: 0.7469\n",
      "Epoch 82/100\n",
      "15/15 [==============================] - 2s 122ms/step - loss: 0.0048 - accuracy: 0.9990 - val_loss: 1.2488 - val_accuracy: 0.7688\n",
      "Epoch 83/100\n",
      "15/15 [==============================] - 2s 120ms/step - loss: 0.0036 - accuracy: 0.9990 - val_loss: 1.2431 - val_accuracy: 0.7812\n",
      "Epoch 84/100\n",
      "15/15 [==============================] - 2s 118ms/step - loss: 0.0085 - accuracy: 0.9990 - val_loss: 1.8129 - val_accuracy: 0.7125\n",
      "Epoch 85/100\n",
      "15/15 [==============================] - 2s 116ms/step - loss: 0.0118 - accuracy: 0.9958 - val_loss: 1.3832 - val_accuracy: 0.7656\n",
      "Epoch 86/100\n",
      "15/15 [==============================] - 2s 120ms/step - loss: 0.0031 - accuracy: 1.0000 - val_loss: 1.3458 - val_accuracy: 0.7656\n",
      "Epoch 87/100\n",
      "15/15 [==============================] - 2s 117ms/step - loss: 0.0034 - accuracy: 0.9990 - val_loss: 1.2861 - val_accuracy: 0.7781\n",
      "Epoch 88/100\n",
      "15/15 [==============================] - 2s 117ms/step - loss: 0.0011 - accuracy: 1.0000 - val_loss: 1.3402 - val_accuracy: 0.7812\n",
      "Epoch 89/100\n",
      "15/15 [==============================] - 2s 116ms/step - loss: 0.0015 - accuracy: 1.0000 - val_loss: 1.3691 - val_accuracy: 0.7750\n",
      "Epoch 90/100\n",
      "15/15 [==============================] - 2s 116ms/step - loss: 7.9838e-04 - accuracy: 1.0000 - val_loss: 1.2616 - val_accuracy: 0.7844\n",
      "Epoch 91/100\n",
      "15/15 [==============================] - 2s 128ms/step - loss: 0.0012 - accuracy: 1.0000 - val_loss: 1.3959 - val_accuracy: 0.7781\n",
      "Epoch 92/100\n",
      "15/15 [==============================] - 2s 122ms/step - loss: 7.7595e-04 - accuracy: 1.0000 - val_loss: 1.3696 - val_accuracy: 0.7781\n",
      "Epoch 93/100\n",
      "15/15 [==============================] - 2s 124ms/step - loss: 5.2229e-04 - accuracy: 1.0000 - val_loss: 1.3172 - val_accuracy: 0.7937\n",
      "Epoch 94/100\n",
      "15/15 [==============================] - 2s 121ms/step - loss: 0.0028 - accuracy: 0.9990 - val_loss: 1.3217 - val_accuracy: 0.7812\n",
      "Epoch 95/100\n",
      "15/15 [==============================] - 2s 121ms/step - loss: 0.0064 - accuracy: 0.9979 - val_loss: 1.4014 - val_accuracy: 0.7656\n",
      "Epoch 96/100\n",
      "15/15 [==============================] - 2s 119ms/step - loss: 0.0036 - accuracy: 0.9979 - val_loss: 1.3095 - val_accuracy: 0.7937\n",
      "Epoch 97/100\n",
      "15/15 [==============================] - 2s 120ms/step - loss: 0.0057 - accuracy: 0.9990 - val_loss: 1.5262 - val_accuracy: 0.7625\n",
      "Epoch 98/100\n",
      "15/15 [==============================] - 2s 119ms/step - loss: 0.0012 - accuracy: 1.0000 - val_loss: 1.3554 - val_accuracy: 0.7875\n",
      "Epoch 99/100\n",
      "15/15 [==============================] - 2s 119ms/step - loss: 0.0027 - accuracy: 0.9990 - val_loss: 1.3083 - val_accuracy: 0.7875\n",
      "Epoch 100/100\n",
      "15/15 [==============================] - 2s 121ms/step - loss: 9.7083e-04 - accuracy: 1.0000 - val_loss: 1.3544 - val_accuracy: 0.7875\n"
     ]
    }
   ],
   "source": [
    "epochs=100\n",
    "history = model.fit(\n",
    "    train_dataset,\n",
    "    epochs=epochs,\n",
    "    validation_data=test_dataset\n",
    ")"
   ]
  },
  {
   "cell_type": "code",
   "execution_count": 12,
   "metadata": {},
   "outputs": [
    {
     "data": {
      "image/png": "[encoded data removed]",
      "text/plain": [
       "<Figure size 432x288 with 1 Axes>"
      ]
     },
     "metadata": {
      "needs_background": "light"
     },
     "output_type": "display_data"
    }
   ],
   "source": [
    "import matplotlib.pyplot as plt\n",
    "\n",
    "plt.plot(history.history['accuracy'])\n",
    "plt.plot(history.history['val_accuracy'])\n",
    "plt.show()"
   ]
  },
  {
   "cell_type": "markdown",
   "metadata": {},
   "source": [
    "---"
   ]
  },
  {
   "cell_type": "markdown",
   "metadata": {},
   "source": [
    "## Custom model"
   ]
  },
  {
   "cell_type": "code",
   "execution_count": 8,
   "metadata": {},
   "outputs": [],
   "source": [
    "from tensorflow import keras\n",
    "from copy import deepcopy\n",
    "\n",
    "class DistMLP(keras.Model):\n",
    "    def __init__(self,):\n",
    "        super(DistMLP, self).__init__()\n",
    "        self.mod1 = Sequential([\n",
    "            layers.Rescaling(1./255, input_shape=(*x.shape[1:],)),\n",
    "            layers.Conv2D(16, 3, padding='same', activation='relu'),\n",
    "            layers.MaxPooling2D(),\n",
    "            layers.Conv2D(64, 3, padding='same', activation='relu'),\n",
    "            layers.MaxPooling2D(),\n",
    "            layers.Flatten(),\n",
    "#             layers.Dropout(0.9),\n",
    "            layers.Dense(128, activation='relu'),\n",
    "            layers.Dense(num_classes, 'softmax')\n",
    "        ])\n",
    "        \n",
    "        self.mod2 = tf.keras.models.clone_model(self.mod1)\n",
    "        self.mod3 = tf.keras.models.clone_model(self.mod1)\n",
    "#         self.mod4 = tf.keras.models.clone_model(self.mod1)\n",
    "\n",
    "    def call(self, data):\n",
    "        return self.mod1(data)\n",
    "\n",
    "    def train_step(self, data):\n",
    "        x,y = data\n",
    "        with tf.GradientTape() as tape:\n",
    "            y_pred1 = self.mod1(x,training=True)\n",
    "            y_pred2 = self.mod2(x,training=True)\n",
    "            y_pred3 = self.mod3(x,training=True)\n",
    "#             y_pred4 = self.mod4(x,training=True)\n",
    "            loss1 = self.compiled_loss(y,y_pred1)\n",
    "            loss2 = self.compiled_loss(y,y_pred2)\n",
    "            loss3 = self.compiled_loss(y,y_pred3)\n",
    "#             loss4 = self.compiled_loss(y,y_pred4)\n",
    "\n",
    "        grads = tape.gradient([loss1,loss2,loss3], self.trainable_weights)\n",
    "        self.optimizer.apply_gradients(zip(grads, self.trainable_weights))\n",
    "        self.compiled_metrics.update_state(tf.concat([y,y,y],0), tf.concat([y_pred1,y_pred2,y_pred3],0))\n",
    "\n",
    "        return {m.name: m.result() for m in self.metrics}"
   ]
  },
  {
   "cell_type": "code",
   "execution_count": 9,
   "metadata": {},
   "outputs": [],
   "source": [
    "m = DistMLP()\n",
    "m.compile(\n",
    "    optimizer='adam',\n",
    "    loss=tf.keras.losses.SparseCategoricalCrossentropy(),\n",
    "    metrics=['accuracy'],\n",
    "    run_eagerly=True\n",
    ")"
   ]
  },
  {
   "cell_type": "code",
   "execution_count": 10,
   "metadata": {
    "scrolled": true
   },
   "outputs": [
    {
     "name": "stdout",
     "output_type": "stream",
     "text": [
      "Epoch 1/10\n"
     ]
    },
    {
     "ename": "ResourceExhaustedError",
     "evalue": "OOM when allocating tensor with shape[1000000,128] and type float on /job:localhost/replica:0/task:0/device:GPU:0 by allocator GPU_0_bfc [Op:Fill]",
     "output_type": "error",
     "traceback": [
      "\u001b[0;31m---------------------------------------------------------------------------\u001b[0m",
      "\u001b[0;31mResourceExhaustedError\u001b[0m                    Traceback (most recent call last)",
      "\u001b[0;32m<ipython-input-10-7507026fdaa6>\u001b[0m in \u001b[0;36m<module>\u001b[0;34m\u001b[0m\n\u001b[0;32m----> 1\u001b[0;31m m.fit(\n\u001b[0m\u001b[1;32m      2\u001b[0m     \u001b[0mtrain_dataset\u001b[0m\u001b[0;34m,\u001b[0m\u001b[0;34m\u001b[0m\u001b[0;34m\u001b[0m\u001b[0m\n\u001b[1;32m      3\u001b[0m     \u001b[0mepochs\u001b[0m\u001b[0;34m=\u001b[0m\u001b[0;36m10\u001b[0m\u001b[0;34m\u001b[0m\u001b[0;34m\u001b[0m\u001b[0m\n\u001b[1;32m      4\u001b[0m )\n",
      "\u001b[0;32m~/anaconda/lib/python3.8/site-packages/keras/engine/training.py\u001b[0m in \u001b[0;36mfit\u001b[0;34m(self, x, y, batch_size, epochs, verbose, callbacks, validation_split, validation_data, shuffle, class_weight, sample_weight, initial_epoch, steps_per_epoch, validation_steps, validation_batch_size, validation_freq, max_queue_size, workers, use_multiprocessing)\u001b[0m\n\u001b[1;32m   1182\u001b[0m                 _r=1):\n\u001b[1;32m   1183\u001b[0m               \u001b[0mcallbacks\u001b[0m\u001b[0;34m.\u001b[0m\u001b[0mon_train_batch_begin\u001b[0m\u001b[0;34m(\u001b[0m\u001b[0mstep\u001b[0m\u001b[0;34m)\u001b[0m\u001b[0;34m\u001b[0m\u001b[0;34m\u001b[0m\u001b[0m\n\u001b[0;32m-> 1184\u001b[0;31m               \u001b[0mtmp_logs\u001b[0m \u001b[0;34m=\u001b[0m \u001b[0mself\u001b[0m\u001b[0;34m.\u001b[0m\u001b[0mtrain_function\u001b[0m\u001b[0;34m(\u001b[0m\u001b[0miterator\u001b[0m\u001b[0;34m)\u001b[0m\u001b[0;34m\u001b[0m\u001b[0;34m\u001b[0m\u001b[0m\n\u001b[0m\u001b[1;32m   1185\u001b[0m               \u001b[0;32mif\u001b[0m \u001b[0mdata_handler\u001b[0m\u001b[0;34m.\u001b[0m\u001b[0mshould_sync\u001b[0m\u001b[0;34m:\u001b[0m\u001b[0;34m\u001b[0m\u001b[0;34m\u001b[0m\u001b[0m\n\u001b[1;32m   1186\u001b[0m                 \u001b[0mcontext\u001b[0m\u001b[0;34m.\u001b[0m\u001b[0masync_wait\u001b[0m\u001b[0;34m(\u001b[0m\u001b[0;34m)\u001b[0m\u001b[0;34m\u001b[0m\u001b[0;34m\u001b[0m\u001b[0m\n",
      "\u001b[0;32m~/anaconda/lib/python3.8/site-packages/keras/engine/training.py\u001b[0m in \u001b[0;36mtrain_function\u001b[0;34m(iterator)\u001b[0m\n\u001b[1;32m    851\u001b[0m       \u001b[0;32mdef\u001b[0m \u001b[0mtrain_function\u001b[0m\u001b[0;34m(\u001b[0m\u001b[0miterator\u001b[0m\u001b[0;34m)\u001b[0m\u001b[0;34m:\u001b[0m\u001b[0;34m\u001b[0m\u001b[0;34m\u001b[0m\u001b[0m\n\u001b[1;32m    852\u001b[0m         \u001b[0;34m\"\"\"Runs a training execution with one step.\"\"\"\u001b[0m\u001b[0;34m\u001b[0m\u001b[0;34m\u001b[0m\u001b[0m\n\u001b[0;32m--> 853\u001b[0;31m         \u001b[0;32mreturn\u001b[0m \u001b[0mstep_function\u001b[0m\u001b[0;34m(\u001b[0m\u001b[0mself\u001b[0m\u001b[0;34m,\u001b[0m \u001b[0miterator\u001b[0m\u001b[0;34m)\u001b[0m\u001b[0;34m\u001b[0m\u001b[0;34m\u001b[0m\u001b[0m\n\u001b[0m\u001b[1;32m    854\u001b[0m \u001b[0;34m\u001b[0m\u001b[0m\n\u001b[1;32m    855\u001b[0m     \u001b[0;32melse\u001b[0m\u001b[0;34m:\u001b[0m\u001b[0;34m\u001b[0m\u001b[0;34m\u001b[0m\u001b[0m\n",
      "\u001b[0;32m~/anaconda/lib/python3.8/site-packages/keras/engine/training.py\u001b[0m in \u001b[0;36mstep_function\u001b[0;34m(model, iterator)\u001b[0m\n\u001b[1;32m    840\u001b[0m \u001b[0;34m\u001b[0m\u001b[0m\n\u001b[1;32m    841\u001b[0m       \u001b[0mdata\u001b[0m \u001b[0;34m=\u001b[0m \u001b[0mnext\u001b[0m\u001b[0;34m(\u001b[0m\u001b[0miterator\u001b[0m\u001b[0;34m)\u001b[0m\u001b[0;34m\u001b[0m\u001b[0;34m\u001b[0m\u001b[0m\n\u001b[0;32m--> 842\u001b[0;31m       \u001b[0moutputs\u001b[0m \u001b[0;34m=\u001b[0m \u001b[0mmodel\u001b[0m\u001b[0;34m.\u001b[0m\u001b[0mdistribute_strategy\u001b[0m\u001b[0;34m.\u001b[0m\u001b[0mrun\u001b[0m\u001b[0;34m(\u001b[0m\u001b[0mrun_step\u001b[0m\u001b[0;34m,\u001b[0m \u001b[0margs\u001b[0m\u001b[0;34m=\u001b[0m\u001b[0;34m(\u001b[0m\u001b[0mdata\u001b[0m\u001b[0;34m,\u001b[0m\u001b[0;34m)\u001b[0m\u001b[0;34m)\u001b[0m\u001b[0;34m\u001b[0m\u001b[0;34m\u001b[0m\u001b[0m\n\u001b[0m\u001b[1;32m    843\u001b[0m       outputs = reduce_per_replica(\n\u001b[1;32m    844\u001b[0m           outputs, self.distribute_strategy, reduction='first')\n",
      "\u001b[0;32m~/anaconda/lib/python3.8/site-packages/tensorflow/python/distribute/distribute_lib.py\u001b[0m in \u001b[0;36mrun\u001b[0;34m(***failed resolving arguments***)\u001b[0m\n\u001b[1;32m   1284\u001b[0m       fn = autograph.tf_convert(\n\u001b[1;32m   1285\u001b[0m           fn, autograph_ctx.control_status_ctx(), convert_by_default=False)\n\u001b[0;32m-> 1286\u001b[0;31m       \u001b[0;32mreturn\u001b[0m \u001b[0mself\u001b[0m\u001b[0;34m.\u001b[0m\u001b[0m_extended\u001b[0m\u001b[0;34m.\u001b[0m\u001b[0mcall_for_each_replica\u001b[0m\u001b[0;34m(\u001b[0m\u001b[0mfn\u001b[0m\u001b[0;34m,\u001b[0m \u001b[0margs\u001b[0m\u001b[0;34m=\u001b[0m\u001b[0margs\u001b[0m\u001b[0;34m,\u001b[0m \u001b[0mkwargs\u001b[0m\u001b[0;34m=\u001b[0m\u001b[0mkwargs\u001b[0m\u001b[0;34m)\u001b[0m\u001b[0;34m\u001b[0m\u001b[0;34m\u001b[0m\u001b[0m\n\u001b[0m\u001b[1;32m   1287\u001b[0m \u001b[0;34m\u001b[0m\u001b[0m\n\u001b[1;32m   1288\u001b[0m   \u001b[0;32mdef\u001b[0m \u001b[0mreduce\u001b[0m\u001b[0;34m(\u001b[0m\u001b[0mself\u001b[0m\u001b[0;34m,\u001b[0m \u001b[0mreduce_op\u001b[0m\u001b[0;34m,\u001b[0m \u001b[0mvalue\u001b[0m\u001b[0;34m,\u001b[0m \u001b[0maxis\u001b[0m\u001b[0;34m)\u001b[0m\u001b[0;34m:\u001b[0m\u001b[0;34m\u001b[0m\u001b[0;34m\u001b[0m\u001b[0m\n",
      "\u001b[0;32m~/anaconda/lib/python3.8/site-packages/tensorflow/python/distribute/distribute_lib.py\u001b[0m in \u001b[0;36mcall_for_each_replica\u001b[0;34m(self, fn, args, kwargs)\u001b[0m\n\u001b[1;32m   2847\u001b[0m       \u001b[0mkwargs\u001b[0m \u001b[0;34m=\u001b[0m \u001b[0;34m{\u001b[0m\u001b[0;34m}\u001b[0m\u001b[0;34m\u001b[0m\u001b[0;34m\u001b[0m\u001b[0m\n\u001b[1;32m   2848\u001b[0m     \u001b[0;32mwith\u001b[0m \u001b[0mself\u001b[0m\u001b[0;34m.\u001b[0m\u001b[0m_container_strategy\u001b[0m\u001b[0;34m(\u001b[0m\u001b[0;34m)\u001b[0m\u001b[0;34m.\u001b[0m\u001b[0mscope\u001b[0m\u001b[0;34m(\u001b[0m\u001b[0;34m)\u001b[0m\u001b[0;34m:\u001b[0m\u001b[0;34m\u001b[0m\u001b[0;34m\u001b[0m\u001b[0m\n\u001b[0;32m-> 2849\u001b[0;31m       \u001b[0;32mreturn\u001b[0m \u001b[0mself\u001b[0m\u001b[0;34m.\u001b[0m\u001b[0m_call_for_each_replica\u001b[0m\u001b[0;34m(\u001b[0m\u001b[0mfn\u001b[0m\u001b[0;34m,\u001b[0m \u001b[0margs\u001b[0m\u001b[0;34m,\u001b[0m \u001b[0mkwargs\u001b[0m\u001b[0;34m)\u001b[0m\u001b[0;34m\u001b[0m\u001b[0;34m\u001b[0m\u001b[0m\n\u001b[0m\u001b[1;32m   2850\u001b[0m \u001b[0;34m\u001b[0m\u001b[0m\n\u001b[1;32m   2851\u001b[0m   \u001b[0;32mdef\u001b[0m \u001b[0m_call_for_each_replica\u001b[0m\u001b[0;34m(\u001b[0m\u001b[0mself\u001b[0m\u001b[0;34m,\u001b[0m \u001b[0mfn\u001b[0m\u001b[0;34m,\u001b[0m \u001b[0margs\u001b[0m\u001b[0;34m,\u001b[0m \u001b[0mkwargs\u001b[0m\u001b[0;34m)\u001b[0m\u001b[0;34m:\u001b[0m\u001b[0;34m\u001b[0m\u001b[0;34m\u001b[0m\u001b[0m\n",
      "\u001b[0;32m~/anaconda/lib/python3.8/site-packages/tensorflow/python/distribute/distribute_lib.py\u001b[0m in \u001b[0;36m_call_for_each_replica\u001b[0;34m(self, fn, args, kwargs)\u001b[0m\n\u001b[1;32m   3630\u001b[0m   \u001b[0;32mdef\u001b[0m \u001b[0m_call_for_each_replica\u001b[0m\u001b[0;34m(\u001b[0m\u001b[0mself\u001b[0m\u001b[0;34m,\u001b[0m \u001b[0mfn\u001b[0m\u001b[0;34m,\u001b[0m \u001b[0margs\u001b[0m\u001b[0;34m,\u001b[0m \u001b[0mkwargs\u001b[0m\u001b[0;34m)\u001b[0m\u001b[0;34m:\u001b[0m\u001b[0;34m\u001b[0m\u001b[0;34m\u001b[0m\u001b[0m\n\u001b[1;32m   3631\u001b[0m     \u001b[0;32mwith\u001b[0m \u001b[0mReplicaContext\u001b[0m\u001b[0;34m(\u001b[0m\u001b[0mself\u001b[0m\u001b[0;34m.\u001b[0m\u001b[0m_container_strategy\u001b[0m\u001b[0;34m(\u001b[0m\u001b[0;34m)\u001b[0m\u001b[0;34m,\u001b[0m \u001b[0mreplica_id_in_sync_group\u001b[0m\u001b[0;34m=\u001b[0m\u001b[0;36m0\u001b[0m\u001b[0;34m)\u001b[0m\u001b[0;34m:\u001b[0m\u001b[0;34m\u001b[0m\u001b[0;34m\u001b[0m\u001b[0m\n\u001b[0;32m-> 3632\u001b[0;31m       \u001b[0;32mreturn\u001b[0m \u001b[0mfn\u001b[0m\u001b[0;34m(\u001b[0m\u001b[0;34m*\u001b[0m\u001b[0margs\u001b[0m\u001b[0;34m,\u001b[0m \u001b[0;34m**\u001b[0m\u001b[0mkwargs\u001b[0m\u001b[0;34m)\u001b[0m\u001b[0;34m\u001b[0m\u001b[0;34m\u001b[0m\u001b[0m\n\u001b[0m\u001b[1;32m   3633\u001b[0m \u001b[0;34m\u001b[0m\u001b[0m\n\u001b[1;32m   3634\u001b[0m   \u001b[0;32mdef\u001b[0m \u001b[0m_reduce_to\u001b[0m\u001b[0;34m(\u001b[0m\u001b[0mself\u001b[0m\u001b[0;34m,\u001b[0m \u001b[0mreduce_op\u001b[0m\u001b[0;34m,\u001b[0m \u001b[0mvalue\u001b[0m\u001b[0;34m,\u001b[0m \u001b[0mdestinations\u001b[0m\u001b[0;34m,\u001b[0m \u001b[0moptions\u001b[0m\u001b[0;34m)\u001b[0m\u001b[0;34m:\u001b[0m\u001b[0;34m\u001b[0m\u001b[0;34m\u001b[0m\u001b[0m\n",
      "\u001b[0;32m~/anaconda/lib/python3.8/site-packages/tensorflow/python/autograph/impl/api.py\u001b[0m in \u001b[0;36mwrapper\u001b[0;34m(*args, **kwargs)\u001b[0m\n\u001b[1;32m    595\u001b[0m   \u001b[0;32mdef\u001b[0m \u001b[0mwrapper\u001b[0m\u001b[0;34m(\u001b[0m\u001b[0;34m*\u001b[0m\u001b[0margs\u001b[0m\u001b[0;34m,\u001b[0m \u001b[0;34m**\u001b[0m\u001b[0mkwargs\u001b[0m\u001b[0;34m)\u001b[0m\u001b[0;34m:\u001b[0m\u001b[0;34m\u001b[0m\u001b[0;34m\u001b[0m\u001b[0m\n\u001b[1;32m    596\u001b[0m     \u001b[0;32mwith\u001b[0m \u001b[0mag_ctx\u001b[0m\u001b[0;34m.\u001b[0m\u001b[0mControlStatusCtx\u001b[0m\u001b[0;34m(\u001b[0m\u001b[0mstatus\u001b[0m\u001b[0;34m=\u001b[0m\u001b[0mag_ctx\u001b[0m\u001b[0;34m.\u001b[0m\u001b[0mStatus\u001b[0m\u001b[0;34m.\u001b[0m\u001b[0mUNSPECIFIED\u001b[0m\u001b[0;34m)\u001b[0m\u001b[0;34m:\u001b[0m\u001b[0;34m\u001b[0m\u001b[0;34m\u001b[0m\u001b[0m\n\u001b[0;32m--> 597\u001b[0;31m       \u001b[0;32mreturn\u001b[0m \u001b[0mfunc\u001b[0m\u001b[0;34m(\u001b[0m\u001b[0;34m*\u001b[0m\u001b[0margs\u001b[0m\u001b[0;34m,\u001b[0m \u001b[0;34m**\u001b[0m\u001b[0mkwargs\u001b[0m\u001b[0;34m)\u001b[0m\u001b[0;34m\u001b[0m\u001b[0;34m\u001b[0m\u001b[0m\n\u001b[0m\u001b[1;32m    598\u001b[0m \u001b[0;34m\u001b[0m\u001b[0m\n\u001b[1;32m    599\u001b[0m   \u001b[0;32mif\u001b[0m \u001b[0minspect\u001b[0m\u001b[0;34m.\u001b[0m\u001b[0misfunction\u001b[0m\u001b[0;34m(\u001b[0m\u001b[0mfunc\u001b[0m\u001b[0;34m)\u001b[0m \u001b[0;32mor\u001b[0m \u001b[0minspect\u001b[0m\u001b[0;34m.\u001b[0m\u001b[0mismethod\u001b[0m\u001b[0;34m(\u001b[0m\u001b[0mfunc\u001b[0m\u001b[0;34m)\u001b[0m\u001b[0;34m:\u001b[0m\u001b[0;34m\u001b[0m\u001b[0;34m\u001b[0m\u001b[0m\n",
      "\u001b[0;32m~/anaconda/lib/python3.8/site-packages/keras/engine/training.py\u001b[0m in \u001b[0;36mrun_step\u001b[0;34m(data)\u001b[0m\n\u001b[1;32m    833\u001b[0m \u001b[0;34m\u001b[0m\u001b[0m\n\u001b[1;32m    834\u001b[0m       \u001b[0;32mdef\u001b[0m \u001b[0mrun_step\u001b[0m\u001b[0;34m(\u001b[0m\u001b[0mdata\u001b[0m\u001b[0;34m)\u001b[0m\u001b[0;34m:\u001b[0m\u001b[0;34m\u001b[0m\u001b[0;34m\u001b[0m\u001b[0m\n\u001b[0;32m--> 835\u001b[0;31m         \u001b[0moutputs\u001b[0m \u001b[0;34m=\u001b[0m \u001b[0mmodel\u001b[0m\u001b[0;34m.\u001b[0m\u001b[0mtrain_step\u001b[0m\u001b[0;34m(\u001b[0m\u001b[0mdata\u001b[0m\u001b[0;34m)\u001b[0m\u001b[0;34m\u001b[0m\u001b[0;34m\u001b[0m\u001b[0m\n\u001b[0m\u001b[1;32m    836\u001b[0m         \u001b[0;31m# Ensure counter is updated only if `train_step` succeeds.\u001b[0m\u001b[0;34m\u001b[0m\u001b[0;34m\u001b[0m\u001b[0;34m\u001b[0m\u001b[0m\n\u001b[1;32m    837\u001b[0m         \u001b[0;32mwith\u001b[0m \u001b[0mtf\u001b[0m\u001b[0;34m.\u001b[0m\u001b[0mcontrol_dependencies\u001b[0m\u001b[0;34m(\u001b[0m\u001b[0m_minimum_control_deps\u001b[0m\u001b[0;34m(\u001b[0m\u001b[0moutputs\u001b[0m\u001b[0;34m)\u001b[0m\u001b[0;34m)\u001b[0m\u001b[0;34m:\u001b[0m\u001b[0;34m\u001b[0m\u001b[0;34m\u001b[0m\u001b[0m\n",
      "\u001b[0;32m<ipython-input-8-b5a7edfcd917>\u001b[0m in \u001b[0;36mtrain_step\u001b[0;34m(self, data)\u001b[0m\n\u001b[1;32m     37\u001b[0m \u001b[0;34m\u001b[0m\u001b[0m\n\u001b[1;32m     38\u001b[0m         \u001b[0mgrads\u001b[0m \u001b[0;34m=\u001b[0m \u001b[0mtape\u001b[0m\u001b[0;34m.\u001b[0m\u001b[0mgradient\u001b[0m\u001b[0;34m(\u001b[0m\u001b[0;34m[\u001b[0m\u001b[0mloss1\u001b[0m\u001b[0;34m,\u001b[0m\u001b[0mloss2\u001b[0m\u001b[0;34m,\u001b[0m\u001b[0mloss3\u001b[0m\u001b[0;34m]\u001b[0m\u001b[0;34m,\u001b[0m \u001b[0mself\u001b[0m\u001b[0;34m.\u001b[0m\u001b[0mtrainable_weights\u001b[0m\u001b[0;34m)\u001b[0m\u001b[0;34m\u001b[0m\u001b[0;34m\u001b[0m\u001b[0m\n\u001b[0;32m---> 39\u001b[0;31m         \u001b[0mself\u001b[0m\u001b[0;34m.\u001b[0m\u001b[0moptimizer\u001b[0m\u001b[0;34m.\u001b[0m\u001b[0mapply_gradients\u001b[0m\u001b[0;34m(\u001b[0m\u001b[0mzip\u001b[0m\u001b[0;34m(\u001b[0m\u001b[0mgrads\u001b[0m\u001b[0;34m,\u001b[0m \u001b[0mself\u001b[0m\u001b[0;34m.\u001b[0m\u001b[0mtrainable_weights\u001b[0m\u001b[0;34m)\u001b[0m\u001b[0;34m)\u001b[0m\u001b[0;34m\u001b[0m\u001b[0;34m\u001b[0m\u001b[0m\n\u001b[0m\u001b[1;32m     40\u001b[0m         \u001b[0mself\u001b[0m\u001b[0;34m.\u001b[0m\u001b[0mcompiled_metrics\u001b[0m\u001b[0;34m.\u001b[0m\u001b[0mupdate_state\u001b[0m\u001b[0;34m(\u001b[0m\u001b[0mtf\u001b[0m\u001b[0;34m.\u001b[0m\u001b[0mconcat\u001b[0m\u001b[0;34m(\u001b[0m\u001b[0;34m[\u001b[0m\u001b[0my\u001b[0m\u001b[0;34m,\u001b[0m\u001b[0my\u001b[0m\u001b[0;34m,\u001b[0m\u001b[0my\u001b[0m\u001b[0;34m]\u001b[0m\u001b[0;34m,\u001b[0m\u001b[0;36m0\u001b[0m\u001b[0;34m)\u001b[0m\u001b[0;34m,\u001b[0m \u001b[0mtf\u001b[0m\u001b[0;34m.\u001b[0m\u001b[0mconcat\u001b[0m\u001b[0;34m(\u001b[0m\u001b[0;34m[\u001b[0m\u001b[0my_pred1\u001b[0m\u001b[0;34m,\u001b[0m\u001b[0my_pred2\u001b[0m\u001b[0;34m,\u001b[0m\u001b[0my_pred3\u001b[0m\u001b[0;34m]\u001b[0m\u001b[0;34m,\u001b[0m\u001b[0;36m0\u001b[0m\u001b[0;34m)\u001b[0m\u001b[0;34m)\u001b[0m\u001b[0;34m\u001b[0m\u001b[0;34m\u001b[0m\u001b[0m\n\u001b[1;32m     41\u001b[0m \u001b[0;34m\u001b[0m\u001b[0m\n",
      "\u001b[0;32m~/anaconda/lib/python3.8/site-packages/keras/optimizer_v2/optimizer_v2.py\u001b[0m in \u001b[0;36mapply_gradients\u001b[0;34m(self, grads_and_vars, name, experimental_aggregate_gradients)\u001b[0m\n\u001b[1;32m    626\u001b[0m       \u001b[0;31m# Create iteration if necessary.\u001b[0m\u001b[0;34m\u001b[0m\u001b[0;34m\u001b[0m\u001b[0;34m\u001b[0m\u001b[0m\n\u001b[1;32m    627\u001b[0m       \u001b[0;32mwith\u001b[0m \u001b[0mtf\u001b[0m\u001b[0;34m.\u001b[0m\u001b[0minit_scope\u001b[0m\u001b[0;34m(\u001b[0m\u001b[0;34m)\u001b[0m\u001b[0;34m:\u001b[0m\u001b[0;34m\u001b[0m\u001b[0;34m\u001b[0m\u001b[0m\n\u001b[0;32m--> 628\u001b[0;31m         \u001b[0mself\u001b[0m\u001b[0;34m.\u001b[0m\u001b[0m_create_all_weights\u001b[0m\u001b[0;34m(\u001b[0m\u001b[0mvar_list\u001b[0m\u001b[0;34m)\u001b[0m\u001b[0;34m\u001b[0m\u001b[0;34m\u001b[0m\u001b[0m\n\u001b[0m\u001b[1;32m    629\u001b[0m \u001b[0;34m\u001b[0m\u001b[0m\n\u001b[1;32m    630\u001b[0m       \u001b[0;32mif\u001b[0m \u001b[0;32mnot\u001b[0m \u001b[0mgrads_and_vars\u001b[0m\u001b[0;34m:\u001b[0m\u001b[0;34m\u001b[0m\u001b[0;34m\u001b[0m\u001b[0m\n",
      "\u001b[0;32m~/anaconda/lib/python3.8/site-packages/keras/optimizer_v2/optimizer_v2.py\u001b[0m in \u001b[0;36m_create_all_weights\u001b[0;34m(self, var_list)\u001b[0m\n\u001b[1;32m    813\u001b[0m     \u001b[0m_\u001b[0m \u001b[0;34m=\u001b[0m \u001b[0mself\u001b[0m\u001b[0;34m.\u001b[0m\u001b[0miterations\u001b[0m\u001b[0;34m\u001b[0m\u001b[0;34m\u001b[0m\u001b[0m\n\u001b[1;32m    814\u001b[0m     \u001b[0mself\u001b[0m\u001b[0;34m.\u001b[0m\u001b[0m_create_hypers\u001b[0m\u001b[0;34m(\u001b[0m\u001b[0;34m)\u001b[0m\u001b[0;34m\u001b[0m\u001b[0;34m\u001b[0m\u001b[0m\n\u001b[0;32m--> 815\u001b[0;31m     \u001b[0mself\u001b[0m\u001b[0;34m.\u001b[0m\u001b[0m_create_slots\u001b[0m\u001b[0;34m(\u001b[0m\u001b[0mvar_list\u001b[0m\u001b[0;34m)\u001b[0m\u001b[0;34m\u001b[0m\u001b[0;34m\u001b[0m\u001b[0m\n\u001b[0m\u001b[1;32m    816\u001b[0m \u001b[0;34m\u001b[0m\u001b[0m\n\u001b[1;32m    817\u001b[0m   \u001b[0;32mdef\u001b[0m \u001b[0m__getattribute__\u001b[0m\u001b[0;34m(\u001b[0m\u001b[0mself\u001b[0m\u001b[0;34m,\u001b[0m \u001b[0mname\u001b[0m\u001b[0;34m)\u001b[0m\u001b[0;34m:\u001b[0m\u001b[0;34m\u001b[0m\u001b[0;34m\u001b[0m\u001b[0m\n",
      "\u001b[0;32m~/anaconda/lib/python3.8/site-packages/keras/optimizer_v2/adam.py\u001b[0m in \u001b[0;36m_create_slots\u001b[0;34m(self, var_list)\u001b[0m\n\u001b[1;32m    117\u001b[0m       \u001b[0mself\u001b[0m\u001b[0;34m.\u001b[0m\u001b[0madd_slot\u001b[0m\u001b[0;34m(\u001b[0m\u001b[0mvar\u001b[0m\u001b[0;34m,\u001b[0m \u001b[0;34m'm'\u001b[0m\u001b[0;34m)\u001b[0m\u001b[0;34m\u001b[0m\u001b[0;34m\u001b[0m\u001b[0m\n\u001b[1;32m    118\u001b[0m     \u001b[0;32mfor\u001b[0m \u001b[0mvar\u001b[0m \u001b[0;32min\u001b[0m \u001b[0mvar_list\u001b[0m\u001b[0;34m:\u001b[0m\u001b[0;34m\u001b[0m\u001b[0;34m\u001b[0m\u001b[0m\n\u001b[0;32m--> 119\u001b[0;31m       \u001b[0mself\u001b[0m\u001b[0;34m.\u001b[0m\u001b[0madd_slot\u001b[0m\u001b[0;34m(\u001b[0m\u001b[0mvar\u001b[0m\u001b[0;34m,\u001b[0m \u001b[0;34m'v'\u001b[0m\u001b[0;34m)\u001b[0m\u001b[0;34m\u001b[0m\u001b[0;34m\u001b[0m\u001b[0m\n\u001b[0m\u001b[1;32m    120\u001b[0m     \u001b[0;32mif\u001b[0m \u001b[0mself\u001b[0m\u001b[0;34m.\u001b[0m\u001b[0mamsgrad\u001b[0m\u001b[0;34m:\u001b[0m\u001b[0;34m\u001b[0m\u001b[0;34m\u001b[0m\u001b[0m\n\u001b[1;32m    121\u001b[0m       \u001b[0;32mfor\u001b[0m \u001b[0mvar\u001b[0m \u001b[0;32min\u001b[0m \u001b[0mvar_list\u001b[0m\u001b[0;34m:\u001b[0m\u001b[0;34m\u001b[0m\u001b[0;34m\u001b[0m\u001b[0m\n",
      "\u001b[0;32m~/anaconda/lib/python3.8/site-packages/keras/optimizer_v2/optimizer_v2.py\u001b[0m in \u001b[0;36madd_slot\u001b[0;34m(self, var, slot_name, initializer, shape)\u001b[0m\n\u001b[1;32m    899\u001b[0m \u001b[0;34m\u001b[0m\u001b[0m\n\u001b[1;32m    900\u001b[0m         \u001b[0;32mwith\u001b[0m \u001b[0mstrategy\u001b[0m\u001b[0;34m.\u001b[0m\u001b[0mextended\u001b[0m\u001b[0;34m.\u001b[0m\u001b[0mcolocate_vars_with\u001b[0m\u001b[0;34m(\u001b[0m\u001b[0mvar\u001b[0m\u001b[0;34m)\u001b[0m\u001b[0;34m:\u001b[0m\u001b[0;34m\u001b[0m\u001b[0;34m\u001b[0m\u001b[0m\n\u001b[0;32m--> 901\u001b[0;31m           weight = tf.Variable(\n\u001b[0m\u001b[1;32m    902\u001b[0m               \u001b[0mname\u001b[0m\u001b[0;34m=\u001b[0m\u001b[0;34m\"%s/%s\"\u001b[0m \u001b[0;34m%\u001b[0m \u001b[0;34m(\u001b[0m\u001b[0mvar\u001b[0m\u001b[0;34m.\u001b[0m\u001b[0m_shared_name\u001b[0m\u001b[0;34m,\u001b[0m \u001b[0mslot_name\u001b[0m\u001b[0;34m)\u001b[0m\u001b[0;34m,\u001b[0m  \u001b[0;31m# pylint: disable=protected-access\u001b[0m\u001b[0;34m\u001b[0m\u001b[0;34m\u001b[0m\u001b[0m\n\u001b[1;32m    903\u001b[0m               \u001b[0mdtype\u001b[0m\u001b[0;34m=\u001b[0m\u001b[0mvar\u001b[0m\u001b[0;34m.\u001b[0m\u001b[0mdtype\u001b[0m\u001b[0;34m,\u001b[0m\u001b[0;34m\u001b[0m\u001b[0;34m\u001b[0m\u001b[0m\n",
      "\u001b[0;32m~/anaconda/lib/python3.8/site-packages/tensorflow/python/ops/variables.py\u001b[0m in \u001b[0;36m__call__\u001b[0;34m(cls, *args, **kwargs)\u001b[0m\n\u001b[1;32m    266\u001b[0m       \u001b[0;32mreturn\u001b[0m \u001b[0mcls\u001b[0m\u001b[0;34m.\u001b[0m\u001b[0m_variable_v1_call\u001b[0m\u001b[0;34m(\u001b[0m\u001b[0;34m*\u001b[0m\u001b[0margs\u001b[0m\u001b[0;34m,\u001b[0m \u001b[0;34m**\u001b[0m\u001b[0mkwargs\u001b[0m\u001b[0;34m)\u001b[0m\u001b[0;34m\u001b[0m\u001b[0;34m\u001b[0m\u001b[0m\n\u001b[1;32m    267\u001b[0m     \u001b[0;32melif\u001b[0m \u001b[0mcls\u001b[0m \u001b[0;32mis\u001b[0m \u001b[0mVariable\u001b[0m\u001b[0;34m:\u001b[0m\u001b[0;34m\u001b[0m\u001b[0;34m\u001b[0m\u001b[0m\n\u001b[0;32m--> 268\u001b[0;31m       \u001b[0;32mreturn\u001b[0m \u001b[0mcls\u001b[0m\u001b[0;34m.\u001b[0m\u001b[0m_variable_v2_call\u001b[0m\u001b[0;34m(\u001b[0m\u001b[0;34m*\u001b[0m\u001b[0margs\u001b[0m\u001b[0;34m,\u001b[0m \u001b[0;34m**\u001b[0m\u001b[0mkwargs\u001b[0m\u001b[0;34m)\u001b[0m\u001b[0;34m\u001b[0m\u001b[0;34m\u001b[0m\u001b[0m\n\u001b[0m\u001b[1;32m    269\u001b[0m     \u001b[0;32melse\u001b[0m\u001b[0;34m:\u001b[0m\u001b[0;34m\u001b[0m\u001b[0;34m\u001b[0m\u001b[0m\n\u001b[1;32m    270\u001b[0m       \u001b[0;32mreturn\u001b[0m \u001b[0msuper\u001b[0m\u001b[0;34m(\u001b[0m\u001b[0mVariableMetaclass\u001b[0m\u001b[0;34m,\u001b[0m \u001b[0mcls\u001b[0m\u001b[0;34m)\u001b[0m\u001b[0;34m.\u001b[0m\u001b[0m__call__\u001b[0m\u001b[0;34m(\u001b[0m\u001b[0;34m*\u001b[0m\u001b[0margs\u001b[0m\u001b[0;34m,\u001b[0m \u001b[0;34m**\u001b[0m\u001b[0mkwargs\u001b[0m\u001b[0;34m)\u001b[0m\u001b[0;34m\u001b[0m\u001b[0;34m\u001b[0m\u001b[0m\n",
      "\u001b[0;32m~/anaconda/lib/python3.8/site-packages/tensorflow/python/ops/variables.py\u001b[0m in \u001b[0;36m_variable_v2_call\u001b[0;34m(cls, initial_value, trainable, validate_shape, caching_device, name, variable_def, dtype, import_scope, constraint, synchronization, aggregation, shape)\u001b[0m\n\u001b[1;32m    248\u001b[0m     \u001b[0;32mif\u001b[0m \u001b[0maggregation\u001b[0m \u001b[0;32mis\u001b[0m \u001b[0;32mNone\u001b[0m\u001b[0;34m:\u001b[0m\u001b[0;34m\u001b[0m\u001b[0;34m\u001b[0m\u001b[0m\n\u001b[1;32m    249\u001b[0m       \u001b[0maggregation\u001b[0m \u001b[0;34m=\u001b[0m \u001b[0mVariableAggregation\u001b[0m\u001b[0;34m.\u001b[0m\u001b[0mNONE\u001b[0m\u001b[0;34m\u001b[0m\u001b[0;34m\u001b[0m\u001b[0m\n\u001b[0;32m--> 250\u001b[0;31m     return previous_getter(\n\u001b[0m\u001b[1;32m    251\u001b[0m         \u001b[0minitial_value\u001b[0m\u001b[0;34m=\u001b[0m\u001b[0minitial_value\u001b[0m\u001b[0;34m,\u001b[0m\u001b[0;34m\u001b[0m\u001b[0;34m\u001b[0m\u001b[0m\n\u001b[1;32m    252\u001b[0m         \u001b[0mtrainable\u001b[0m\u001b[0;34m=\u001b[0m\u001b[0mtrainable\u001b[0m\u001b[0;34m,\u001b[0m\u001b[0;34m\u001b[0m\u001b[0;34m\u001b[0m\u001b[0m\n",
      "\u001b[0;32m~/anaconda/lib/python3.8/site-packages/tensorflow/python/ops/variables.py\u001b[0m in \u001b[0;36mgetter\u001b[0;34m(**kwargs)\u001b[0m\n\u001b[1;32m     65\u001b[0m \u001b[0;34m\u001b[0m\u001b[0m\n\u001b[1;32m     66\u001b[0m   \u001b[0;32mdef\u001b[0m \u001b[0mgetter\u001b[0m\u001b[0;34m(\u001b[0m\u001b[0;34m**\u001b[0m\u001b[0mkwargs\u001b[0m\u001b[0;34m)\u001b[0m\u001b[0;34m:\u001b[0m\u001b[0;34m\u001b[0m\u001b[0;34m\u001b[0m\u001b[0m\n\u001b[0;32m---> 67\u001b[0;31m     \u001b[0;32mreturn\u001b[0m \u001b[0mcaptured_getter\u001b[0m\u001b[0;34m(\u001b[0m\u001b[0mcaptured_previous\u001b[0m\u001b[0;34m,\u001b[0m \u001b[0;34m**\u001b[0m\u001b[0mkwargs\u001b[0m\u001b[0;34m)\u001b[0m\u001b[0;34m\u001b[0m\u001b[0;34m\u001b[0m\u001b[0m\n\u001b[0m\u001b[1;32m     68\u001b[0m \u001b[0;34m\u001b[0m\u001b[0m\n\u001b[1;32m     69\u001b[0m   \u001b[0;32mreturn\u001b[0m \u001b[0mgetter\u001b[0m\u001b[0;34m\u001b[0m\u001b[0;34m\u001b[0m\u001b[0m\n",
      "\u001b[0;32m~/anaconda/lib/python3.8/site-packages/tensorflow/python/distribute/distribute_lib.py\u001b[0m in \u001b[0;36mcreator\u001b[0;34m(next_creator, **kwargs)\u001b[0m\n\u001b[1;32m   3545\u001b[0m     \u001b[0;32mdef\u001b[0m \u001b[0mcreator\u001b[0m\u001b[0;34m(\u001b[0m\u001b[0mnext_creator\u001b[0m\u001b[0;34m,\u001b[0m \u001b[0;34m**\u001b[0m\u001b[0mkwargs\u001b[0m\u001b[0;34m)\u001b[0m\u001b[0;34m:\u001b[0m\u001b[0;34m\u001b[0m\u001b[0;34m\u001b[0m\u001b[0m\n\u001b[1;32m   3546\u001b[0m       \u001b[0m_require_strategy_scope_strategy\u001b[0m\u001b[0;34m(\u001b[0m\u001b[0mstrategy\u001b[0m\u001b[0;34m)\u001b[0m\u001b[0;34m\u001b[0m\u001b[0;34m\u001b[0m\u001b[0m\n\u001b[0;32m-> 3547\u001b[0;31m       \u001b[0;32mreturn\u001b[0m \u001b[0mnext_creator\u001b[0m\u001b[0;34m(\u001b[0m\u001b[0;34m**\u001b[0m\u001b[0mkwargs\u001b[0m\u001b[0;34m)\u001b[0m\u001b[0;34m\u001b[0m\u001b[0;34m\u001b[0m\u001b[0m\n\u001b[0m\u001b[1;32m   3548\u001b[0m \u001b[0;34m\u001b[0m\u001b[0m\n\u001b[1;32m   3549\u001b[0m     \u001b[0mself\u001b[0m\u001b[0;34m.\u001b[0m\u001b[0m_var_creator_scope\u001b[0m \u001b[0;34m=\u001b[0m \u001b[0mvariable_scope\u001b[0m\u001b[0;34m.\u001b[0m\u001b[0mvariable_creator_scope\u001b[0m\u001b[0;34m(\u001b[0m\u001b[0mcreator\u001b[0m\u001b[0;34m)\u001b[0m\u001b[0;34m\u001b[0m\u001b[0;34m\u001b[0m\u001b[0m\n",
      "\u001b[0;32m~/anaconda/lib/python3.8/site-packages/tensorflow/python/ops/variables.py\u001b[0m in \u001b[0;36mgetter\u001b[0;34m(**kwargs)\u001b[0m\n\u001b[1;32m     65\u001b[0m \u001b[0;34m\u001b[0m\u001b[0m\n\u001b[1;32m     66\u001b[0m   \u001b[0;32mdef\u001b[0m \u001b[0mgetter\u001b[0m\u001b[0;34m(\u001b[0m\u001b[0;34m**\u001b[0m\u001b[0mkwargs\u001b[0m\u001b[0;34m)\u001b[0m\u001b[0;34m:\u001b[0m\u001b[0;34m\u001b[0m\u001b[0;34m\u001b[0m\u001b[0m\n\u001b[0;32m---> 67\u001b[0;31m     \u001b[0;32mreturn\u001b[0m \u001b[0mcaptured_getter\u001b[0m\u001b[0;34m(\u001b[0m\u001b[0mcaptured_previous\u001b[0m\u001b[0;34m,\u001b[0m \u001b[0;34m**\u001b[0m\u001b[0mkwargs\u001b[0m\u001b[0;34m)\u001b[0m\u001b[0;34m\u001b[0m\u001b[0;34m\u001b[0m\u001b[0m\n\u001b[0m\u001b[1;32m     68\u001b[0m \u001b[0;34m\u001b[0m\u001b[0m\n\u001b[1;32m     69\u001b[0m   \u001b[0;32mreturn\u001b[0m \u001b[0mgetter\u001b[0m\u001b[0;34m\u001b[0m\u001b[0;34m\u001b[0m\u001b[0m\n",
      "\u001b[0;32m~/anaconda/lib/python3.8/site-packages/tensorflow/python/distribute/distribute_lib.py\u001b[0m in \u001b[0;36mcreator\u001b[0;34m(next_creator, **kwargs)\u001b[0m\n\u001b[1;32m   3545\u001b[0m     \u001b[0;32mdef\u001b[0m \u001b[0mcreator\u001b[0m\u001b[0;34m(\u001b[0m\u001b[0mnext_creator\u001b[0m\u001b[0;34m,\u001b[0m \u001b[0;34m**\u001b[0m\u001b[0mkwargs\u001b[0m\u001b[0;34m)\u001b[0m\u001b[0;34m:\u001b[0m\u001b[0;34m\u001b[0m\u001b[0;34m\u001b[0m\u001b[0m\n\u001b[1;32m   3546\u001b[0m       \u001b[0m_require_strategy_scope_strategy\u001b[0m\u001b[0;34m(\u001b[0m\u001b[0mstrategy\u001b[0m\u001b[0;34m)\u001b[0m\u001b[0;34m\u001b[0m\u001b[0;34m\u001b[0m\u001b[0m\n\u001b[0;32m-> 3547\u001b[0;31m       \u001b[0;32mreturn\u001b[0m \u001b[0mnext_creator\u001b[0m\u001b[0;34m(\u001b[0m\u001b[0;34m**\u001b[0m\u001b[0mkwargs\u001b[0m\u001b[0;34m)\u001b[0m\u001b[0;34m\u001b[0m\u001b[0;34m\u001b[0m\u001b[0m\n\u001b[0m\u001b[1;32m   3548\u001b[0m \u001b[0;34m\u001b[0m\u001b[0m\n\u001b[1;32m   3549\u001b[0m     \u001b[0mself\u001b[0m\u001b[0;34m.\u001b[0m\u001b[0m_var_creator_scope\u001b[0m \u001b[0;34m=\u001b[0m \u001b[0mvariable_scope\u001b[0m\u001b[0;34m.\u001b[0m\u001b[0mvariable_creator_scope\u001b[0m\u001b[0;34m(\u001b[0m\u001b[0mcreator\u001b[0m\u001b[0;34m)\u001b[0m\u001b[0;34m\u001b[0m\u001b[0;34m\u001b[0m\u001b[0m\n",
      "\u001b[0;32m~/anaconda/lib/python3.8/site-packages/tensorflow/python/ops/variables.py\u001b[0m in \u001b[0;36mgetter\u001b[0;34m(**kwargs)\u001b[0m\n\u001b[1;32m     65\u001b[0m \u001b[0;34m\u001b[0m\u001b[0m\n\u001b[1;32m     66\u001b[0m   \u001b[0;32mdef\u001b[0m \u001b[0mgetter\u001b[0m\u001b[0;34m(\u001b[0m\u001b[0;34m**\u001b[0m\u001b[0mkwargs\u001b[0m\u001b[0;34m)\u001b[0m\u001b[0;34m:\u001b[0m\u001b[0;34m\u001b[0m\u001b[0;34m\u001b[0m\u001b[0m\n\u001b[0;32m---> 67\u001b[0;31m     \u001b[0;32mreturn\u001b[0m \u001b[0mcaptured_getter\u001b[0m\u001b[0;34m(\u001b[0m\u001b[0mcaptured_previous\u001b[0m\u001b[0;34m,\u001b[0m \u001b[0;34m**\u001b[0m\u001b[0mkwargs\u001b[0m\u001b[0;34m)\u001b[0m\u001b[0;34m\u001b[0m\u001b[0;34m\u001b[0m\u001b[0m\n\u001b[0m\u001b[1;32m     68\u001b[0m \u001b[0;34m\u001b[0m\u001b[0m\n\u001b[1;32m     69\u001b[0m   \u001b[0;32mreturn\u001b[0m \u001b[0mgetter\u001b[0m\u001b[0;34m\u001b[0m\u001b[0;34m\u001b[0m\u001b[0m\n",
      "\u001b[0;32m~/anaconda/lib/python3.8/site-packages/tensorflow/python/distribute/distribute_lib.py\u001b[0m in \u001b[0;36mcreator\u001b[0;34m(next_creator, **kwargs)\u001b[0m\n\u001b[1;32m   3545\u001b[0m     \u001b[0;32mdef\u001b[0m \u001b[0mcreator\u001b[0m\u001b[0;34m(\u001b[0m\u001b[0mnext_creator\u001b[0m\u001b[0;34m,\u001b[0m \u001b[0;34m**\u001b[0m\u001b[0mkwargs\u001b[0m\u001b[0;34m)\u001b[0m\u001b[0;34m:\u001b[0m\u001b[0;34m\u001b[0m\u001b[0;34m\u001b[0m\u001b[0m\n\u001b[1;32m   3546\u001b[0m       \u001b[0m_require_strategy_scope_strategy\u001b[0m\u001b[0;34m(\u001b[0m\u001b[0mstrategy\u001b[0m\u001b[0;34m)\u001b[0m\u001b[0;34m\u001b[0m\u001b[0;34m\u001b[0m\u001b[0m\n\u001b[0;32m-> 3547\u001b[0;31m       \u001b[0;32mreturn\u001b[0m \u001b[0mnext_creator\u001b[0m\u001b[0;34m(\u001b[0m\u001b[0;34m**\u001b[0m\u001b[0mkwargs\u001b[0m\u001b[0;34m)\u001b[0m\u001b[0;34m\u001b[0m\u001b[0;34m\u001b[0m\u001b[0m\n\u001b[0m\u001b[1;32m   3548\u001b[0m \u001b[0;34m\u001b[0m\u001b[0m\n\u001b[1;32m   3549\u001b[0m     \u001b[0mself\u001b[0m\u001b[0;34m.\u001b[0m\u001b[0m_var_creator_scope\u001b[0m \u001b[0;34m=\u001b[0m \u001b[0mvariable_scope\u001b[0m\u001b[0;34m.\u001b[0m\u001b[0mvariable_creator_scope\u001b[0m\u001b[0;34m(\u001b[0m\u001b[0mcreator\u001b[0m\u001b[0;34m)\u001b[0m\u001b[0;34m\u001b[0m\u001b[0;34m\u001b[0m\u001b[0m\n",
      "\u001b[0;32m~/anaconda/lib/python3.8/site-packages/tensorflow/python/ops/variables.py\u001b[0m in \u001b[0;36m<lambda>\u001b[0;34m(**kws)\u001b[0m\n\u001b[1;32m    241\u001b[0m                         shape=None):\n\u001b[1;32m    242\u001b[0m     \u001b[0;34m\"\"\"Call on Variable class. Useful to force the signature.\"\"\"\u001b[0m\u001b[0;34m\u001b[0m\u001b[0;34m\u001b[0m\u001b[0m\n\u001b[0;32m--> 243\u001b[0;31m     \u001b[0mprevious_getter\u001b[0m \u001b[0;34m=\u001b[0m \u001b[0;32mlambda\u001b[0m \u001b[0;34m**\u001b[0m\u001b[0mkws\u001b[0m\u001b[0;34m:\u001b[0m \u001b[0mdefault_variable_creator_v2\u001b[0m\u001b[0;34m(\u001b[0m\u001b[0;32mNone\u001b[0m\u001b[0;34m,\u001b[0m \u001b[0;34m**\u001b[0m\u001b[0mkws\u001b[0m\u001b[0;34m)\u001b[0m\u001b[0;34m\u001b[0m\u001b[0;34m\u001b[0m\u001b[0m\n\u001b[0m\u001b[1;32m    244\u001b[0m     \u001b[0;32mfor\u001b[0m \u001b[0m_\u001b[0m\u001b[0;34m,\u001b[0m \u001b[0mgetter\u001b[0m \u001b[0;32min\u001b[0m \u001b[0mops\u001b[0m\u001b[0;34m.\u001b[0m\u001b[0mget_default_graph\u001b[0m\u001b[0;34m(\u001b[0m\u001b[0;34m)\u001b[0m\u001b[0;34m.\u001b[0m\u001b[0m_variable_creator_stack\u001b[0m\u001b[0;34m:\u001b[0m  \u001b[0;31m# pylint: disable=protected-access\u001b[0m\u001b[0;34m\u001b[0m\u001b[0;34m\u001b[0m\u001b[0m\n\u001b[1;32m    245\u001b[0m       \u001b[0mprevious_getter\u001b[0m \u001b[0;34m=\u001b[0m \u001b[0m_make_getter\u001b[0m\u001b[0;34m(\u001b[0m\u001b[0mgetter\u001b[0m\u001b[0;34m,\u001b[0m \u001b[0mprevious_getter\u001b[0m\u001b[0;34m)\u001b[0m\u001b[0;34m\u001b[0m\u001b[0;34m\u001b[0m\u001b[0m\n",
      "\u001b[0;32m~/anaconda/lib/python3.8/site-packages/tensorflow/python/ops/variable_scope.py\u001b[0m in \u001b[0;36mdefault_variable_creator_v2\u001b[0;34m(next_creator, **kwargs)\u001b[0m\n\u001b[1;32m   2660\u001b[0m   \u001b[0mshape\u001b[0m \u001b[0;34m=\u001b[0m \u001b[0mkwargs\u001b[0m\u001b[0;34m.\u001b[0m\u001b[0mget\u001b[0m\u001b[0;34m(\u001b[0m\u001b[0;34m\"shape\"\u001b[0m\u001b[0;34m,\u001b[0m \u001b[0;32mNone\u001b[0m\u001b[0;34m)\u001b[0m\u001b[0;34m\u001b[0m\u001b[0;34m\u001b[0m\u001b[0m\n\u001b[1;32m   2661\u001b[0m \u001b[0;34m\u001b[0m\u001b[0m\n\u001b[0;32m-> 2662\u001b[0;31m   return resource_variable_ops.ResourceVariable(\n\u001b[0m\u001b[1;32m   2663\u001b[0m       \u001b[0minitial_value\u001b[0m\u001b[0;34m=\u001b[0m\u001b[0minitial_value\u001b[0m\u001b[0;34m,\u001b[0m\u001b[0;34m\u001b[0m\u001b[0;34m\u001b[0m\u001b[0m\n\u001b[1;32m   2664\u001b[0m       \u001b[0mtrainable\u001b[0m\u001b[0;34m=\u001b[0m\u001b[0mtrainable\u001b[0m\u001b[0;34m,\u001b[0m\u001b[0;34m\u001b[0m\u001b[0;34m\u001b[0m\u001b[0m\n",
      "\u001b[0;32m~/anaconda/lib/python3.8/site-packages/tensorflow/python/ops/variables.py\u001b[0m in \u001b[0;36m__call__\u001b[0;34m(cls, *args, **kwargs)\u001b[0m\n\u001b[1;32m    268\u001b[0m       \u001b[0;32mreturn\u001b[0m \u001b[0mcls\u001b[0m\u001b[0;34m.\u001b[0m\u001b[0m_variable_v2_call\u001b[0m\u001b[0;34m(\u001b[0m\u001b[0;34m*\u001b[0m\u001b[0margs\u001b[0m\u001b[0;34m,\u001b[0m \u001b[0;34m**\u001b[0m\u001b[0mkwargs\u001b[0m\u001b[0;34m)\u001b[0m\u001b[0;34m\u001b[0m\u001b[0;34m\u001b[0m\u001b[0m\n\u001b[1;32m    269\u001b[0m     \u001b[0;32melse\u001b[0m\u001b[0;34m:\u001b[0m\u001b[0;34m\u001b[0m\u001b[0;34m\u001b[0m\u001b[0m\n\u001b[0;32m--> 270\u001b[0;31m       \u001b[0;32mreturn\u001b[0m \u001b[0msuper\u001b[0m\u001b[0;34m(\u001b[0m\u001b[0mVariableMetaclass\u001b[0m\u001b[0;34m,\u001b[0m \u001b[0mcls\u001b[0m\u001b[0;34m)\u001b[0m\u001b[0;34m.\u001b[0m\u001b[0m__call__\u001b[0m\u001b[0;34m(\u001b[0m\u001b[0;34m*\u001b[0m\u001b[0margs\u001b[0m\u001b[0;34m,\u001b[0m \u001b[0;34m**\u001b[0m\u001b[0mkwargs\u001b[0m\u001b[0;34m)\u001b[0m\u001b[0;34m\u001b[0m\u001b[0;34m\u001b[0m\u001b[0m\n\u001b[0m\u001b[1;32m    271\u001b[0m \u001b[0;34m\u001b[0m\u001b[0m\n\u001b[1;32m    272\u001b[0m \u001b[0;34m\u001b[0m\u001b[0m\n",
      "\u001b[0;32m~/anaconda/lib/python3.8/site-packages/tensorflow/python/ops/resource_variable_ops.py\u001b[0m in \u001b[0;36m__init__\u001b[0;34m(self, initial_value, trainable, collections, validate_shape, caching_device, name, dtype, variable_def, import_scope, constraint, distribute_strategy, synchronization, aggregation, shape)\u001b[0m\n\u001b[1;32m   1600\u001b[0m       \u001b[0mself\u001b[0m\u001b[0;34m.\u001b[0m\u001b[0m_init_from_proto\u001b[0m\u001b[0;34m(\u001b[0m\u001b[0mvariable_def\u001b[0m\u001b[0;34m,\u001b[0m \u001b[0mimport_scope\u001b[0m\u001b[0;34m=\u001b[0m\u001b[0mimport_scope\u001b[0m\u001b[0;34m)\u001b[0m\u001b[0;34m\u001b[0m\u001b[0;34m\u001b[0m\u001b[0m\n\u001b[1;32m   1601\u001b[0m     \u001b[0;32melse\u001b[0m\u001b[0;34m:\u001b[0m\u001b[0;34m\u001b[0m\u001b[0;34m\u001b[0m\u001b[0m\n\u001b[0;32m-> 1602\u001b[0;31m       self._init_from_args(\n\u001b[0m\u001b[1;32m   1603\u001b[0m           \u001b[0minitial_value\u001b[0m\u001b[0;34m=\u001b[0m\u001b[0minitial_value\u001b[0m\u001b[0;34m,\u001b[0m\u001b[0;34m\u001b[0m\u001b[0;34m\u001b[0m\u001b[0m\n\u001b[1;32m   1604\u001b[0m           \u001b[0mtrainable\u001b[0m\u001b[0;34m=\u001b[0m\u001b[0mtrainable\u001b[0m\u001b[0;34m,\u001b[0m\u001b[0;34m\u001b[0m\u001b[0;34m\u001b[0m\u001b[0m\n",
      "\u001b[0;32m~/anaconda/lib/python3.8/site-packages/tensorflow/python/ops/resource_variable_ops.py\u001b[0m in \u001b[0;36m_init_from_args\u001b[0;34m(self, initial_value, trainable, collections, caching_device, name, dtype, constraint, synchronization, aggregation, distribute_strategy, shape)\u001b[0m\n\u001b[1;32m   1738\u001b[0m           \u001b[0;32mwith\u001b[0m \u001b[0mops\u001b[0m\u001b[0;34m.\u001b[0m\u001b[0mname_scope\u001b[0m\u001b[0;34m(\u001b[0m\u001b[0;34m\"Initializer\"\u001b[0m\u001b[0;34m)\u001b[0m\u001b[0;34m,\u001b[0m \u001b[0mdevice_context_manager\u001b[0m\u001b[0;34m(\u001b[0m\u001b[0;32mNone\u001b[0m\u001b[0;34m)\u001b[0m\u001b[0;34m:\u001b[0m\u001b[0;34m\u001b[0m\u001b[0;34m\u001b[0m\u001b[0m\n\u001b[1;32m   1739\u001b[0m             \u001b[0;32mif\u001b[0m \u001b[0minit_from_fn\u001b[0m\u001b[0;34m:\u001b[0m\u001b[0;34m\u001b[0m\u001b[0;34m\u001b[0m\u001b[0m\n\u001b[0;32m-> 1740\u001b[0;31m               \u001b[0minitial_value\u001b[0m \u001b[0;34m=\u001b[0m \u001b[0minitial_value\u001b[0m\u001b[0;34m(\u001b[0m\u001b[0;34m)\u001b[0m\u001b[0;34m\u001b[0m\u001b[0;34m\u001b[0m\u001b[0m\n\u001b[0m\u001b[1;32m   1741\u001b[0m             \u001b[0;32mif\u001b[0m \u001b[0misinstance\u001b[0m\u001b[0;34m(\u001b[0m\u001b[0minitial_value\u001b[0m\u001b[0;34m,\u001b[0m \u001b[0mtrackable\u001b[0m\u001b[0;34m.\u001b[0m\u001b[0mCheckpointInitialValue\u001b[0m\u001b[0;34m)\u001b[0m\u001b[0;34m:\u001b[0m\u001b[0;34m\u001b[0m\u001b[0;34m\u001b[0m\u001b[0m\n\u001b[1;32m   1742\u001b[0m               \u001b[0mself\u001b[0m\u001b[0;34m.\u001b[0m\u001b[0m_maybe_initialize_trackable\u001b[0m\u001b[0;34m(\u001b[0m\u001b[0;34m)\u001b[0m\u001b[0;34m\u001b[0m\u001b[0;34m\u001b[0m\u001b[0m\n",
      "\u001b[0;32m~/anaconda/lib/python3.8/site-packages/keras/initializers/initializers_v2.py\u001b[0m in \u001b[0;36m__call__\u001b[0;34m(self, shape, dtype, **kwargs)\u001b[0m\n\u001b[1;32m    143\u001b[0m     \u001b[0;32mif\u001b[0m \u001b[0m_PARTITION_SHAPE\u001b[0m \u001b[0;32min\u001b[0m \u001b[0mkwargs\u001b[0m\u001b[0;34m:\u001b[0m\u001b[0;34m\u001b[0m\u001b[0;34m\u001b[0m\u001b[0m\n\u001b[1;32m    144\u001b[0m       \u001b[0mshape\u001b[0m \u001b[0;34m=\u001b[0m \u001b[0mkwargs\u001b[0m\u001b[0;34m[\u001b[0m\u001b[0m_PARTITION_SHAPE\u001b[0m\u001b[0;34m]\u001b[0m\u001b[0;34m\u001b[0m\u001b[0;34m\u001b[0m\u001b[0m\n\u001b[0;32m--> 145\u001b[0;31m     \u001b[0;32mreturn\u001b[0m \u001b[0mtf\u001b[0m\u001b[0;34m.\u001b[0m\u001b[0mzeros\u001b[0m\u001b[0;34m(\u001b[0m\u001b[0mshape\u001b[0m\u001b[0;34m,\u001b[0m \u001b[0mdtype\u001b[0m\u001b[0;34m)\u001b[0m\u001b[0;34m\u001b[0m\u001b[0;34m\u001b[0m\u001b[0m\n\u001b[0m\u001b[1;32m    146\u001b[0m \u001b[0;34m\u001b[0m\u001b[0m\n\u001b[1;32m    147\u001b[0m \u001b[0;34m\u001b[0m\u001b[0m\n",
      "\u001b[0;32m~/anaconda/lib/python3.8/site-packages/tensorflow/python/util/dispatch.py\u001b[0m in \u001b[0;36mwrapper\u001b[0;34m(*args, **kwargs)\u001b[0m\n\u001b[1;32m    204\u001b[0m     \u001b[0;34m\"\"\"Call target, and fall back on dispatchers if there is a TypeError.\"\"\"\u001b[0m\u001b[0;34m\u001b[0m\u001b[0;34m\u001b[0m\u001b[0m\n\u001b[1;32m    205\u001b[0m     \u001b[0;32mtry\u001b[0m\u001b[0;34m:\u001b[0m\u001b[0;34m\u001b[0m\u001b[0;34m\u001b[0m\u001b[0m\n\u001b[0;32m--> 206\u001b[0;31m       \u001b[0;32mreturn\u001b[0m \u001b[0mtarget\u001b[0m\u001b[0;34m(\u001b[0m\u001b[0;34m*\u001b[0m\u001b[0margs\u001b[0m\u001b[0;34m,\u001b[0m \u001b[0;34m**\u001b[0m\u001b[0mkwargs\u001b[0m\u001b[0;34m)\u001b[0m\u001b[0;34m\u001b[0m\u001b[0;34m\u001b[0m\u001b[0m\n\u001b[0m\u001b[1;32m    207\u001b[0m     \u001b[0;32mexcept\u001b[0m \u001b[0;34m(\u001b[0m\u001b[0mTypeError\u001b[0m\u001b[0;34m,\u001b[0m \u001b[0mValueError\u001b[0m\u001b[0;34m)\u001b[0m\u001b[0;34m:\u001b[0m\u001b[0;34m\u001b[0m\u001b[0;34m\u001b[0m\u001b[0m\n\u001b[1;32m    208\u001b[0m       \u001b[0;31m# Note: convert_to_eager_tensor currently raises a ValueError, not a\u001b[0m\u001b[0;34m\u001b[0m\u001b[0;34m\u001b[0m\u001b[0;34m\u001b[0m\u001b[0m\n",
      "\u001b[0;32m~/anaconda/lib/python3.8/site-packages/tensorflow/python/ops/array_ops.py\u001b[0m in \u001b[0;36mwrapped\u001b[0;34m(*args, **kwargs)\u001b[0m\n\u001b[1;32m   2913\u001b[0m \u001b[0;34m\u001b[0m\u001b[0m\n\u001b[1;32m   2914\u001b[0m   \u001b[0;32mdef\u001b[0m \u001b[0mwrapped\u001b[0m\u001b[0;34m(\u001b[0m\u001b[0;34m*\u001b[0m\u001b[0margs\u001b[0m\u001b[0;34m,\u001b[0m \u001b[0;34m**\u001b[0m\u001b[0mkwargs\u001b[0m\u001b[0;34m)\u001b[0m\u001b[0;34m:\u001b[0m\u001b[0;34m\u001b[0m\u001b[0;34m\u001b[0m\u001b[0m\n\u001b[0;32m-> 2915\u001b[0;31m     \u001b[0mtensor\u001b[0m \u001b[0;34m=\u001b[0m \u001b[0mfun\u001b[0m\u001b[0;34m(\u001b[0m\u001b[0;34m*\u001b[0m\u001b[0margs\u001b[0m\u001b[0;34m,\u001b[0m \u001b[0;34m**\u001b[0m\u001b[0mkwargs\u001b[0m\u001b[0;34m)\u001b[0m\u001b[0;34m\u001b[0m\u001b[0;34m\u001b[0m\u001b[0m\n\u001b[0m\u001b[1;32m   2916\u001b[0m     \u001b[0mtensor\u001b[0m\u001b[0;34m.\u001b[0m\u001b[0m_is_zeros_tensor\u001b[0m \u001b[0;34m=\u001b[0m \u001b[0;32mTrue\u001b[0m\u001b[0;34m\u001b[0m\u001b[0;34m\u001b[0m\u001b[0m\n\u001b[1;32m   2917\u001b[0m     \u001b[0;32mreturn\u001b[0m \u001b[0mtensor\u001b[0m\u001b[0;34m\u001b[0m\u001b[0;34m\u001b[0m\u001b[0m\n",
      "\u001b[0;32m~/anaconda/lib/python3.8/site-packages/tensorflow/python/ops/array_ops.py\u001b[0m in \u001b[0;36mzeros\u001b[0;34m(shape, dtype, name)\u001b[0m\n\u001b[1;32m   2974\u001b[0m     \u001b[0;32mif\u001b[0m \u001b[0;32mnot\u001b[0m \u001b[0mshape\u001b[0m\u001b[0;34m.\u001b[0m\u001b[0m_shape_tuple\u001b[0m\u001b[0;34m(\u001b[0m\u001b[0;34m)\u001b[0m\u001b[0;34m:\u001b[0m\u001b[0;34m\u001b[0m\u001b[0;34m\u001b[0m\u001b[0m\n\u001b[1;32m   2975\u001b[0m       \u001b[0mshape\u001b[0m \u001b[0;34m=\u001b[0m \u001b[0mreshape\u001b[0m\u001b[0;34m(\u001b[0m\u001b[0mshape\u001b[0m\u001b[0;34m,\u001b[0m \u001b[0;34m[\u001b[0m\u001b[0;34m-\u001b[0m\u001b[0;36m1\u001b[0m\u001b[0;34m]\u001b[0m\u001b[0;34m)\u001b[0m  \u001b[0;31m# Ensure it's a vector\u001b[0m\u001b[0;34m\u001b[0m\u001b[0;34m\u001b[0m\u001b[0m\n\u001b[0;32m-> 2976\u001b[0;31m     \u001b[0moutput\u001b[0m \u001b[0;34m=\u001b[0m \u001b[0mfill\u001b[0m\u001b[0;34m(\u001b[0m\u001b[0mshape\u001b[0m\u001b[0;34m,\u001b[0m \u001b[0mconstant\u001b[0m\u001b[0;34m(\u001b[0m\u001b[0mzero\u001b[0m\u001b[0;34m,\u001b[0m \u001b[0mdtype\u001b[0m\u001b[0;34m=\u001b[0m\u001b[0mdtype\u001b[0m\u001b[0;34m)\u001b[0m\u001b[0;34m,\u001b[0m \u001b[0mname\u001b[0m\u001b[0;34m=\u001b[0m\u001b[0mname\u001b[0m\u001b[0;34m)\u001b[0m\u001b[0;34m\u001b[0m\u001b[0;34m\u001b[0m\u001b[0m\n\u001b[0m\u001b[1;32m   2977\u001b[0m   \u001b[0;32massert\u001b[0m \u001b[0moutput\u001b[0m\u001b[0;34m.\u001b[0m\u001b[0mdtype\u001b[0m\u001b[0;34m.\u001b[0m\u001b[0mbase_dtype\u001b[0m \u001b[0;34m==\u001b[0m \u001b[0mdtype\u001b[0m\u001b[0;34m\u001b[0m\u001b[0;34m\u001b[0m\u001b[0m\n\u001b[1;32m   2978\u001b[0m   \u001b[0;32mreturn\u001b[0m \u001b[0moutput\u001b[0m\u001b[0;34m\u001b[0m\u001b[0;34m\u001b[0m\u001b[0m\n",
      "\u001b[0;32m~/anaconda/lib/python3.8/site-packages/tensorflow/python/util/dispatch.py\u001b[0m in \u001b[0;36mwrapper\u001b[0;34m(*args, **kwargs)\u001b[0m\n\u001b[1;32m    204\u001b[0m     \u001b[0;34m\"\"\"Call target, and fall back on dispatchers if there is a TypeError.\"\"\"\u001b[0m\u001b[0;34m\u001b[0m\u001b[0;34m\u001b[0m\u001b[0m\n\u001b[1;32m    205\u001b[0m     \u001b[0;32mtry\u001b[0m\u001b[0;34m:\u001b[0m\u001b[0;34m\u001b[0m\u001b[0;34m\u001b[0m\u001b[0m\n\u001b[0;32m--> 206\u001b[0;31m       \u001b[0;32mreturn\u001b[0m \u001b[0mtarget\u001b[0m\u001b[0;34m(\u001b[0m\u001b[0;34m*\u001b[0m\u001b[0margs\u001b[0m\u001b[0;34m,\u001b[0m \u001b[0;34m**\u001b[0m\u001b[0mkwargs\u001b[0m\u001b[0;34m)\u001b[0m\u001b[0;34m\u001b[0m\u001b[0;34m\u001b[0m\u001b[0m\n\u001b[0m\u001b[1;32m    207\u001b[0m     \u001b[0;32mexcept\u001b[0m \u001b[0;34m(\u001b[0m\u001b[0mTypeError\u001b[0m\u001b[0;34m,\u001b[0m \u001b[0mValueError\u001b[0m\u001b[0;34m)\u001b[0m\u001b[0;34m:\u001b[0m\u001b[0;34m\u001b[0m\u001b[0;34m\u001b[0m\u001b[0m\n\u001b[1;32m    208\u001b[0m       \u001b[0;31m# Note: convert_to_eager_tensor currently raises a ValueError, not a\u001b[0m\u001b[0;34m\u001b[0m\u001b[0;34m\u001b[0m\u001b[0;34m\u001b[0m\u001b[0m\n",
      "\u001b[0;32m~/anaconda/lib/python3.8/site-packages/tensorflow/python/ops/array_ops.py\u001b[0m in \u001b[0;36mfill\u001b[0;34m(dims, value, name)\u001b[0m\n\u001b[1;32m    238\u001b[0m   \u001b[0;34m@\u001b[0m\u001b[0mend_compatibility\u001b[0m\u001b[0;34m\u001b[0m\u001b[0;34m\u001b[0m\u001b[0m\n\u001b[1;32m    239\u001b[0m   \"\"\"\n\u001b[0;32m--> 240\u001b[0;31m   \u001b[0mresult\u001b[0m \u001b[0;34m=\u001b[0m \u001b[0mgen_array_ops\u001b[0m\u001b[0;34m.\u001b[0m\u001b[0mfill\u001b[0m\u001b[0;34m(\u001b[0m\u001b[0mdims\u001b[0m\u001b[0;34m,\u001b[0m \u001b[0mvalue\u001b[0m\u001b[0;34m,\u001b[0m \u001b[0mname\u001b[0m\u001b[0;34m=\u001b[0m\u001b[0mname\u001b[0m\u001b[0;34m)\u001b[0m\u001b[0;34m\u001b[0m\u001b[0;34m\u001b[0m\u001b[0m\n\u001b[0m\u001b[1;32m    241\u001b[0m   \u001b[0mtensor_util\u001b[0m\u001b[0;34m.\u001b[0m\u001b[0mmaybe_set_static_shape\u001b[0m\u001b[0;34m(\u001b[0m\u001b[0mresult\u001b[0m\u001b[0;34m,\u001b[0m \u001b[0mdims\u001b[0m\u001b[0;34m)\u001b[0m\u001b[0;34m\u001b[0m\u001b[0;34m\u001b[0m\u001b[0m\n\u001b[1;32m    242\u001b[0m   \u001b[0;32mreturn\u001b[0m \u001b[0mresult\u001b[0m\u001b[0;34m\u001b[0m\u001b[0;34m\u001b[0m\u001b[0m\n",
      "\u001b[0;32m~/anaconda/lib/python3.8/site-packages/tensorflow/python/ops/gen_array_ops.py\u001b[0m in \u001b[0;36mfill\u001b[0;34m(dims, value, name)\u001b[0m\n\u001b[1;32m   3366\u001b[0m       \u001b[0;32mreturn\u001b[0m \u001b[0m_result\u001b[0m\u001b[0;34m\u001b[0m\u001b[0;34m\u001b[0m\u001b[0m\n\u001b[1;32m   3367\u001b[0m     \u001b[0;32mexcept\u001b[0m \u001b[0m_core\u001b[0m\u001b[0;34m.\u001b[0m\u001b[0m_NotOkStatusException\u001b[0m \u001b[0;32mas\u001b[0m \u001b[0me\u001b[0m\u001b[0;34m:\u001b[0m\u001b[0;34m\u001b[0m\u001b[0;34m\u001b[0m\u001b[0m\n\u001b[0;32m-> 3368\u001b[0;31m       \u001b[0m_ops\u001b[0m\u001b[0;34m.\u001b[0m\u001b[0mraise_from_not_ok_status\u001b[0m\u001b[0;34m(\u001b[0m\u001b[0me\u001b[0m\u001b[0;34m,\u001b[0m \u001b[0mname\u001b[0m\u001b[0;34m)\u001b[0m\u001b[0;34m\u001b[0m\u001b[0;34m\u001b[0m\u001b[0m\n\u001b[0m\u001b[1;32m   3369\u001b[0m     \u001b[0;32mexcept\u001b[0m \u001b[0m_core\u001b[0m\u001b[0;34m.\u001b[0m\u001b[0m_FallbackException\u001b[0m\u001b[0;34m:\u001b[0m\u001b[0;34m\u001b[0m\u001b[0;34m\u001b[0m\u001b[0m\n\u001b[1;32m   3370\u001b[0m       \u001b[0;32mpass\u001b[0m\u001b[0;34m\u001b[0m\u001b[0;34m\u001b[0m\u001b[0m\n",
      "\u001b[0;32m~/anaconda/lib/python3.8/site-packages/tensorflow/python/framework/ops.py\u001b[0m in \u001b[0;36mraise_from_not_ok_status\u001b[0;34m(e, name)\u001b[0m\n\u001b[1;32m   6939\u001b[0m   \u001b[0mmessage\u001b[0m \u001b[0;34m=\u001b[0m \u001b[0me\u001b[0m\u001b[0;34m.\u001b[0m\u001b[0mmessage\u001b[0m \u001b[0;34m+\u001b[0m \u001b[0;34m(\u001b[0m\u001b[0;34m\" name: \"\u001b[0m \u001b[0;34m+\u001b[0m \u001b[0mname\u001b[0m \u001b[0;32mif\u001b[0m \u001b[0mname\u001b[0m \u001b[0;32mis\u001b[0m \u001b[0;32mnot\u001b[0m \u001b[0;32mNone\u001b[0m \u001b[0;32melse\u001b[0m \u001b[0;34m\"\"\u001b[0m\u001b[0;34m)\u001b[0m\u001b[0;34m\u001b[0m\u001b[0;34m\u001b[0m\u001b[0m\n\u001b[1;32m   6940\u001b[0m   \u001b[0;31m# pylint: disable=protected-access\u001b[0m\u001b[0;34m\u001b[0m\u001b[0;34m\u001b[0m\u001b[0;34m\u001b[0m\u001b[0m\n\u001b[0;32m-> 6941\u001b[0;31m   \u001b[0msix\u001b[0m\u001b[0;34m.\u001b[0m\u001b[0mraise_from\u001b[0m\u001b[0;34m(\u001b[0m\u001b[0mcore\u001b[0m\u001b[0;34m.\u001b[0m\u001b[0m_status_to_exception\u001b[0m\u001b[0;34m(\u001b[0m\u001b[0me\u001b[0m\u001b[0;34m.\u001b[0m\u001b[0mcode\u001b[0m\u001b[0;34m,\u001b[0m \u001b[0mmessage\u001b[0m\u001b[0;34m)\u001b[0m\u001b[0;34m,\u001b[0m \u001b[0;32mNone\u001b[0m\u001b[0;34m)\u001b[0m\u001b[0;34m\u001b[0m\u001b[0;34m\u001b[0m\u001b[0m\n\u001b[0m\u001b[1;32m   6942\u001b[0m   \u001b[0;31m# pylint: enable=protected-access\u001b[0m\u001b[0;34m\u001b[0m\u001b[0;34m\u001b[0m\u001b[0;34m\u001b[0m\u001b[0m\n\u001b[1;32m   6943\u001b[0m \u001b[0;34m\u001b[0m\u001b[0m\n",
      "\u001b[0;32m~/anaconda/lib/python3.8/site-packages/six.py\u001b[0m in \u001b[0;36mraise_from\u001b[0;34m(value, from_value)\u001b[0m\n",
      "\u001b[0;31mResourceExhaustedError\u001b[0m: OOM when allocating tensor with shape[1000000,128] and type float on /job:localhost/replica:0/task:0/device:GPU:0 by allocator GPU_0_bfc [Op:Fill]"
     ]
    }
   ],
   "source": [
    "m.fit(\n",
    "    train_dataset,\n",
    "    epochs=10\n",
    ")"
   ]
  },
  {
   "cell_type": "markdown",
   "metadata": {},
   "source": [
    "---"
   ]
  },
  {
   "cell_type": "markdown",
   "metadata": {},
   "source": [
    "## Try smaller Dataset"
   ]
  },
  {
   "cell_type": "code",
   "execution_count": 243,
   "metadata": {
    "scrolled": true
   },
   "outputs": [],
   "source": [
    "import tensorflow_datasets as tfds\n",
    "import matplotlib.pyplot as plt"
   ]
  },
  {
   "cell_type": "code",
   "execution_count": 194,
   "metadata": {
    "scrolled": true
   },
   "outputs": [],
   "source": [
    "(x_train,y_train),(x_test,y_test) = tf.keras.datasets.mnist.load_data()"
   ]
  },
  {
   "cell_type": "code",
   "execution_count": 207,
   "metadata": {},
   "outputs": [
    {
     "data": {
      "text/plain": [
       "(10000, 784)"
      ]
     },
     "execution_count": 207,
     "metadata": {},
     "output_type": "execute_result"
    }
   ],
   "source": [
    "x_test.reshape(-1,28**2).shape"
   ]
  },
  {
   "cell_type": "code",
   "execution_count": 238,
   "metadata": {},
   "outputs": [],
   "source": [
    "batch_size = 128\n",
    "\n",
    "train_dataset = tf.data.Dataset.from_tensor_slices((x_train.reshape(60000,28**2),y_train)).shuffle(100).batch(batch_size,True)\n",
    "test_dataset = tf.data.Dataset.from_tensor_slices((x_test.reshape(10000,28**2),y_test)).shuffle(100).batch(batch_size,True)"
   ]
  },
  {
   "cell_type": "code",
   "execution_count": 245,
   "metadata": {},
   "outputs": [],
   "source": [
    "model = Sequential([\n",
    "    layers.Dense(1024, activation='relu', input_shape=(28**2,)),\n",
    "    layers.Dense(32, activation='relu'),\n",
    "    layers.Dense(16, activation='relu'),\n",
    "    layers.Dense(10, 'softmax')\n",
    "])\n",
    "\n",
    "model.compile(\n",
    "    optimizer='adam',\n",
    "    loss=tf.keras.losses.SparseCategoricalCrossentropy(\n",
    "    ),\n",
    "    metrics=['accuracy']\n",
    ")"
   ]
  },
  {
   "cell_type": "code",
   "execution_count": 246,
   "metadata": {
    "scrolled": true
   },
   "outputs": [
    {
     "name": "stdout",
     "output_type": "stream",
     "text": [
      "Epoch 1/30\n",
      "468/468 [==============================] - 1s 1ms/step - loss: 2.0160 - accuracy: 0.6416 - val_loss: 0.7792 - val_accuracy: 0.7812\n",
      "Epoch 2/30\n",
      "468/468 [==============================] - 0s 1ms/step - loss: 0.5708 - accuracy: 0.8381 - val_loss: 0.4346 - val_accuracy: 0.9054\n",
      "Epoch 3/30\n",
      "468/468 [==============================] - 0s 971us/step - loss: 0.3225 - accuracy: 0.9201 - val_loss: 0.3341 - val_accuracy: 0.9385\n",
      "Epoch 4/30\n",
      "468/468 [==============================] - 0s 978us/step - loss: 0.2370 - accuracy: 0.9410 - val_loss: 0.2551 - val_accuracy: 0.9501\n",
      "Epoch 5/30\n",
      "468/468 [==============================] - 0s 978us/step - loss: 0.1889 - accuracy: 0.9525 - val_loss: 0.2630 - val_accuracy: 0.9453\n",
      "Epoch 6/30\n",
      "468/468 [==============================] - 0s 1ms/step - loss: 0.1518 - accuracy: 0.9616 - val_loss: 0.2404 - val_accuracy: 0.9574\n",
      "Epoch 7/30\n",
      "468/468 [==============================] - 0s 974us/step - loss: 0.1330 - accuracy: 0.9650 - val_loss: 0.1630 - val_accuracy: 0.9628\n",
      "Epoch 8/30\n",
      "468/468 [==============================] - 0s 1ms/step - loss: 0.1055 - accuracy: 0.9724 - val_loss: 0.2175 - val_accuracy: 0.9566\n",
      "Epoch 9/30\n",
      "468/468 [==============================] - 0s 1ms/step - loss: 0.1036 - accuracy: 0.9723 - val_loss: 0.1825 - val_accuracy: 0.9650\n",
      "Epoch 10/30\n",
      "468/468 [==============================] - 0s 1ms/step - loss: 0.0888 - accuracy: 0.9761 - val_loss: 0.2245 - val_accuracy: 0.9465\n",
      "Epoch 11/30\n",
      "468/468 [==============================] - 0s 997us/step - loss: 0.0835 - accuracy: 0.9775 - val_loss: 0.1465 - val_accuracy: 0.9686\n",
      "Epoch 12/30\n",
      "468/468 [==============================] - 0s 1ms/step - loss: 0.0736 - accuracy: 0.9800 - val_loss: 0.1464 - val_accuracy: 0.9677\n",
      "Epoch 13/30\n",
      "468/468 [==============================] - 0s 1ms/step - loss: 0.0765 - accuracy: 0.9795 - val_loss: 0.1519 - val_accuracy: 0.9703\n",
      "Epoch 14/30\n",
      "468/468 [==============================] - 1s 1ms/step - loss: 0.0597 - accuracy: 0.9836 - val_loss: 0.1916 - val_accuracy: 0.9641\n",
      "Epoch 15/30\n",
      "468/468 [==============================] - 0s 986us/step - loss: 0.0579 - accuracy: 0.9840 - val_loss: 0.1607 - val_accuracy: 0.9697\n",
      "Epoch 16/30\n",
      "468/468 [==============================] - 0s 1ms/step - loss: 0.0668 - accuracy: 0.9823 - val_loss: 0.2162 - val_accuracy: 0.9633\n",
      "Epoch 17/30\n",
      "468/468 [==============================] - 1s 1ms/step - loss: 0.0648 - accuracy: 0.9833 - val_loss: 0.1541 - val_accuracy: 0.9715\n",
      "Epoch 18/30\n",
      "468/468 [==============================] - 0s 961us/step - loss: 0.0587 - accuracy: 0.9844 - val_loss: 0.1683 - val_accuracy: 0.9666\n",
      "Epoch 19/30\n",
      "468/468 [==============================] - 0s 1ms/step - loss: 0.0530 - accuracy: 0.9861 - val_loss: 0.1301 - val_accuracy: 0.9752\n",
      "Epoch 20/30\n",
      "468/468 [==============================] - 0s 992us/step - loss: 0.0365 - accuracy: 0.9899 - val_loss: 0.1656 - val_accuracy: 0.9718\n",
      "Epoch 21/30\n",
      "468/468 [==============================] - 0s 1ms/step - loss: 0.0416 - accuracy: 0.9888 - val_loss: 0.1581 - val_accuracy: 0.9731\n",
      "Epoch 22/30\n",
      "468/468 [==============================] - 0s 989us/step - loss: 0.0411 - accuracy: 0.9888 - val_loss: 0.1696 - val_accuracy: 0.9676\n",
      "Epoch 23/30\n",
      "468/468 [==============================] - 0s 1ms/step - loss: 0.0374 - accuracy: 0.9895 - val_loss: 0.1593 - val_accuracy: 0.9744\n",
      "Epoch 24/30\n",
      "468/468 [==============================] - 0s 971us/step - loss: 0.0387 - accuracy: 0.9899 - val_loss: 0.1562 - val_accuracy: 0.9705\n",
      "Epoch 25/30\n",
      "468/468 [==============================] - 0s 1ms/step - loss: 0.0343 - accuracy: 0.9907 - val_loss: 0.1367 - val_accuracy: 0.9766\n",
      "Epoch 26/30\n",
      "468/468 [==============================] - 0s 986us/step - loss: 0.0309 - accuracy: 0.9915 - val_loss: 0.1503 - val_accuracy: 0.9756\n",
      "Epoch 27/30\n",
      "468/468 [==============================] - 0s 957us/step - loss: 0.0322 - accuracy: 0.9916 - val_loss: 0.1738 - val_accuracy: 0.9720\n",
      "Epoch 28/30\n",
      "468/468 [==============================] - 0s 975us/step - loss: 0.0372 - accuracy: 0.9905 - val_loss: 0.1420 - val_accuracy: 0.9753\n",
      "Epoch 29/30\n",
      "468/468 [==============================] - 0s 993us/step - loss: 0.0273 - accuracy: 0.9926 - val_loss: 0.1521 - val_accuracy: 0.9748\n",
      "Epoch 30/30\n",
      "468/468 [==============================] - 1s 1ms/step - loss: 0.0212 - accuracy: 0.9942 - val_loss: 0.1650 - val_accuracy: 0.9748\n"
     ]
    }
   ],
   "source": [
    "epochs=30\n",
    "history = model.fit(\n",
    "    train_dataset,\n",
    "    epochs=epochs,\n",
    "    validation_data=test_dataset\n",
    ")"
   ]
  },
  {
   "cell_type": "code",
   "execution_count": 248,
   "metadata": {
    "scrolled": false
   },
   "outputs": [
    {
     "data": {
      "image/png": "[encoded data removed]",
      "text/plain": [
       "<Figure size 432x288 with 1 Axes>"
      ]
     },
     "metadata": {
      "needs_background": "light"
     },
     "output_type": "display_data"
    }
   ],
   "source": [
    "plt.plot(history.history['accuracy'])\n",
    "plt.plot(history.history['val_accuracy'])\n",
    "\n",
    "plt.show()"
   ]
  },
  {
   "cell_type": "markdown",
   "metadata": {},
   "source": [
    "---"
   ]
  },
  {
   "cell_type": "markdown",
   "metadata": {},
   "source": [
    "## Custom model"
   ]
  },
  {
   "cell_type": "code",
   "execution_count": 346,
   "metadata": {},
   "outputs": [],
   "source": [
    "from sklearn.utils import shuffle\n",
    "\n",
    "split_by_type = [x_train[np.where(y_train==x)] for x in range(10)]\n",
    "split_by_type = [x[:x.shape[0]//4*4].reshape(4,-1,28,28) for x in split_by_type]\n",
    "\n",
    "ds1  = [split_by_type[0][0:2], split_by_type[1][0:2]]\n",
    "ds2  = [split_by_type[2][0:2], split_by_type[3][0:2]]\n",
    "ds3  = [split_by_type[4][0:2], split_by_type[5][0:2]]\n",
    "ds4  = [split_by_type[6][0:2], split_by_type[7][0:2]]\n",
    "\n",
    "y1   = [0 for _ in range(np.multiply(*split_by_type[0][0:2].shape[:2]))] + [1 for _ in range(np.multiply(*split_by_type[1][0:2].shape[:2]))]\n",
    "y2   = [2 for _ in range(np.multiply(*split_by_type[2][0:2].shape[:2]))] + [3 for _ in range(np.multiply(*split_by_type[3][0:2].shape[:2]))]\n",
    "y3   = [4 for _ in range(np.multiply(*split_by_type[4][0:2].shape[:2]))] + [5 for _ in range(np.multiply(*split_by_type[5][0:2].shape[:2]))]\n",
    "y4   = [6 for _ in range(np.multiply(*split_by_type[6][0:2].shape[:2]))] + [7 for _ in range(np.multiply(*split_by_type[7][0:2].shape[:2]))]\n",
    "\n",
    "##\n",
    "\n",
    "ds1 += [split_by_type[2][2:3], split_by_type[3][2:3]]\n",
    "ds2 += [split_by_type[4][2:3], split_by_type[5][2:3]]\n",
    "ds3 += [split_by_type[6][2:3], split_by_type[7][2:3]]\n",
    "ds4 += [split_by_type[0][2:3], split_by_type[1][2:3]]\n",
    "\n",
    "y1  += [2 for _ in range(np.multiply(*split_by_type[2][2:3].shape[:2]))] + [3 for _ in range(np.multiply(*split_by_type[3][2:3].shape[:2]))]\n",
    "y2  += [4 for _ in range(np.multiply(*split_by_type[4][2:3].shape[:2]))] + [5 for _ in range(np.multiply(*split_by_type[5][2:3].shape[:2]))]\n",
    "y3  += [6 for _ in range(np.multiply(*split_by_type[6][2:3].shape[:2]))] + [7 for _ in range(np.multiply(*split_by_type[7][2:3].shape[:2]))]\n",
    "y4  += [0 for _ in range(np.multiply(*split_by_type[0][2:3].shape[:2]))] + [1 for _ in range(np.multiply(*split_by_type[1][2:3].shape[:2]))]\n",
    "\n",
    "##\n",
    "\n",
    "ds1 += [split_by_type[4][3:4], split_by_type[5][3:4]]\n",
    "ds2 += [split_by_type[6][3:4], split_by_type[7][3:4]]\n",
    "ds3 += [split_by_type[0][3:4], split_by_type[1][3:4]]\n",
    "ds4 += [split_by_type[2][3:4], split_by_type[3][3:4]]\n",
    "\n",
    "y1  += [4 for _ in range(np.multiply(*split_by_type[4][3:4].shape[:2]))] + [5 for _ in range(np.multiply(*split_by_type[5][3:4].shape[:2]))]\n",
    "y2  += [6 for _ in range(np.multiply(*split_by_type[6][3:4].shape[:2]))] + [7 for _ in range(np.multiply(*split_by_type[7][3:4].shape[:2]))]\n",
    "y3  += [0 for _ in range(np.multiply(*split_by_type[0][3:4].shape[:2]))] + [1 for _ in range(np.multiply(*split_by_type[1][3:4].shape[:2]))]\n",
    "y4  += [2 for _ in range(np.multiply(*split_by_type[2][3:4].shape[:2]))] + [3 for _ in range(np.multiply(*split_by_type[3][3:4].shape[:2]))]\n",
    "\n",
    "##\n",
    "\n",
    "ds1 += [split_by_type[8][0:1], split_by_type[9][0:1]]\n",
    "ds2 += [split_by_type[8][1:2], split_by_type[9][1:2]]\n",
    "ds3 += [split_by_type[8][2:3], split_by_type[9][2:3]]\n",
    "ds4 += [split_by_type[8][3:4], split_by_type[9][3:4]]\n",
    "\n",
    "y1  += [8 for _ in range(np.multiply(*split_by_type[8][0:1].shape[:2]))] + [9 for _ in range(np.multiply(*split_by_type[9][0:1].shape[:2]))]\n",
    "y2  += [8 for _ in range(np.multiply(*split_by_type[8][1:2].shape[:2]))] + [9 for _ in range(np.multiply(*split_by_type[9][1:2].shape[:2]))]\n",
    "y3  += [8 for _ in range(np.multiply(*split_by_type[8][2:3].shape[:2]))] + [9 for _ in range(np.multiply(*split_by_type[9][2:3].shape[:2]))]\n",
    "y4  += [8 for _ in range(np.multiply(*split_by_type[8][3:4].shape[:2]))] + [9 for _ in range(np.multiply(*split_by_type[9][3:4].shape[:2]))]\n",
    "\n",
    "##\n",
    "\n",
    "ds1 = [list(x.reshape(-1,28,28)) for x in ds1]\n",
    "ds2 = [list(x.reshape(-1,28,28)) for x in ds2]\n",
    "ds3 = [list(x.reshape(-1,28,28)) for x in ds3]\n",
    "ds4 = [list(x.reshape(-1,28,28)) for x in ds4]\n",
    "\n",
    "##\n",
    "\n",
    "ds1 = np.array([item for sublist in ds1 for item in sublist])\n",
    "ds2 = np.array([item for sublist in ds2 for item in sublist])\n",
    "ds3 = np.array([item for sublist in ds3 for item in sublist])\n",
    "ds4 = np.array([item for sublist in ds4 for item in sublist])\n",
    "\n",
    "y1 = np.array(y1)\n",
    "y2 = np.array(y2)\n",
    "y3 = np.array(y3)\n",
    "y4 = np.array(y4)\n",
    "\n",
    "##\n",
    "\n",
    "ds1,y1 = shuffle(ds1,y1)\n",
    "ds2,y2 = shuffle(ds2,y2)\n",
    "ds3,y3 = shuffle(ds3,y3)\n",
    "ds4,y4 = shuffle(ds4,y4)\n",
    "\n",
    "##\n",
    "\n",
    "m = min([x.shape[0] for x in [ds1,ds2,ds3,ds4]])\n",
    "\n",
    "ds1,y1 = ds1[:m].reshape(-1,28**2),y1[:m]\n",
    "ds2,y2 = ds2[:m].reshape(-1,28**2),y2[:m]\n",
    "ds3,y3 = ds3[:m].reshape(-1,28**2),y3[:m]\n",
    "ds4,y4 = ds4[:m].reshape(-1,28**2),y4[:m]\n",
    "\n",
    "##\n",
    "\n",
    "x_test = x_test.reshape(-1,28**2)\n",
    "train_dataset = tf.data.Dataset.from_tensor_slices((ds1,y1,ds2,y2,ds3,y3,ds4,y4)).shuffle(100).batch(batch_size,True)\n",
    "validation_dataset= tf.data.Dataset.from_tensor_slices((x_test,y_test,x_test,y_test,x_test,y_test,x_test,y_test)).shuffle(100).batch(batch_size,True)"
   ]
  },
  {
   "cell_type": "code",
   "execution_count": 452,
   "metadata": {},
   "outputs": [],
   "source": [
    "from tensorflow import keras\n",
    "from copy import deepcopy\n",
    "import tensorflow.experimental.numpy as tnp\n",
    "\n",
    "class DistMLP(keras.Model):\n",
    "    def __init__(self,mode='none'):\n",
    "        super(DistMLP, self).__init__()\n",
    "        self.mod1 = Sequential([\n",
    "            layers.Dense(1024, activation='relu', input_shape=(28**2,)),\n",
    "            layers.Dense(32, activation='relu'),\n",
    "            layers.Dense(16, activation='relu'),\n",
    "            layers.Dropout(0.3),\n",
    "            layers.Dense(10, 'softmax')\n",
    "        ])\n",
    "        \n",
    "        self.mod2 = tf.keras.models.clone_model(self.mod1)\n",
    "        self.mod3 = tf.keras.models.clone_model(self.mod1)\n",
    "        self.mod4 = tf.keras.models.clone_model(self.mod1)\n",
    "        \n",
    "        self.mode=mode\n",
    "\n",
    "    def call(self, data):\n",
    "        return self.mod1(data)\n",
    "\n",
    "    def train_step(self, data):\n",
    "        x1,y1,x2,y2,x3,y3,x4,y4, = data\n",
    "        with tf.GradientTape() as tape:\n",
    "            y_pred1 = self.mod1(x1,training=True)\n",
    "            y_pred2 = self.mod2(x2,training=True)\n",
    "            y_pred3 = self.mod3(x3,training=True)\n",
    "            y_pred4 = self.mod4(x4,training=True)\n",
    "            loss1 = self.compiled_loss(y1,y_pred1)\n",
    "            loss2 = self.compiled_loss(y2,y_pred2)\n",
    "            loss3 = self.compiled_loss(y3,y_pred3)\n",
    "            loss4 = self.compiled_loss(y4,y_pred4)\n",
    "\n",
    "        grads = tape.gradient([loss1,loss2,loss3,loss4], self.trainable_weights)\n",
    "        \n",
    "        if self.mode=='none':\n",
    "            self.optimizer.apply_gradients(zip(grads, self.trainable_weights))\n",
    "        elif self.mode=='simple_add':\n",
    "            temp = [tf.math.add_n([grads[n+i*(len(grads)//4)] for i in range(4)]) for n in range(len(grads)//4)]\n",
    "            self.optimizer.apply_gradients(zip([*temp,*temp,*temp,*temp], self.trainable_weights))\n",
    "        elif self.mode=='djgrad':\n",
    "            # Fill in here\n",
    "        \n",
    "        # Need a metric that gives accuracy for each model individually\n",
    "        self.compiled_metrics.update_state(tf.concat([y1,y2,y3,y4],0), tf.concat([y_pred1,y_pred2,y_pred3,y_pred4],0))\n",
    "\n",
    "        return {m.name: m.result() for m in self.metrics}"
   ]
  },
  {
   "cell_type": "code",
   "execution_count": 453,
   "metadata": {},
   "outputs": [],
   "source": [
    "m = DistMLP('simple_add')\n",
    "m.compile(\n",
    "    optimizer='adam',\n",
    "    loss=tf.keras.losses.SparseCategoricalCrossentropy(),\n",
    "    metrics=['accuracy'],\n",
    "    run_eagerly=True\n",
    ")"
   ]
  },
  {
   "cell_type": "code",
   "execution_count": 454,
   "metadata": {
    "scrolled": true
   },
   "outputs": [
    {
     "name": "stdout",
     "output_type": "stream",
     "text": [
      "Epoch 1/100\n",
      "115/115 [==============================] - 3s 24ms/step - loss: 3.6634 - accuracy: 0.1807 - val_loss: 2.1008 - val_accuracy: 0.1935\n",
      "Epoch 2/100\n",
      "115/115 [==============================] - 3s 23ms/step - loss: 1.9643 - accuracy: 0.2620 - val_loss: 1.9589 - val_accuracy: 0.2939\n",
      "Epoch 3/100\n",
      "115/115 [==============================] - 3s 24ms/step - loss: 1.8996 - accuracy: 0.2868 - val_loss: 1.9635 - val_accuracy: 0.2996\n",
      "Epoch 4/100\n",
      "115/115 [==============================] - 3s 24ms/step - loss: 1.8525 - accuracy: 0.2912 - val_loss: 1.9242 - val_accuracy: 0.3006\n",
      "Epoch 5/100\n",
      "115/115 [==============================] - 3s 23ms/step - loss: 1.8385 - accuracy: 0.2856 - val_loss: 2.5706 - val_accuracy: 0.3016\n",
      "Epoch 6/100\n",
      "115/115 [==============================] - 3s 23ms/step - loss: 1.8515 - accuracy: 0.2739 - val_loss: 2.0026 - val_accuracy: 0.3229\n",
      "Epoch 7/100\n",
      "115/115 [==============================] - 3s 23ms/step - loss: 1.8171 - accuracy: 0.2906 - val_loss: 2.0664 - val_accuracy: 0.3595\n",
      "Epoch 8/100\n",
      "115/115 [==============================] - 3s 23ms/step - loss: 1.7753 - accuracy: 0.3091 - val_loss: 1.8675 - val_accuracy: 0.3826\n",
      "Epoch 9/100\n",
      "115/115 [==============================] - 3s 23ms/step - loss: 1.7581 - accuracy: 0.3164 - val_loss: 1.9146 - val_accuracy: 0.3890\n",
      "Epoch 10/100\n",
      "115/115 [==============================] - 3s 23ms/step - loss: 1.7253 - accuracy: 0.3275 - val_loss: 1.8903 - val_accuracy: 0.3927\n",
      "Epoch 11/100\n",
      "115/115 [==============================] - 3s 23ms/step - loss: 1.7000 - accuracy: 0.3360 - val_loss: 1.7941 - val_accuracy: 0.3964\n",
      "Epoch 12/100\n",
      "115/115 [==============================] - 3s 23ms/step - loss: 1.6410 - accuracy: 0.3521 - val_loss: 1.7673 - val_accuracy: 0.4051\n",
      "Epoch 13/100\n",
      "115/115 [==============================] - 3s 22ms/step - loss: 1.6065 - accuracy: 0.3655 - val_loss: 1.8649 - val_accuracy: 0.4049\n",
      "Epoch 14/100\n",
      "115/115 [==============================] - 3s 23ms/step - loss: 1.5935 - accuracy: 0.3690 - val_loss: 2.1248 - val_accuracy: 0.4108\n",
      "Epoch 15/100\n",
      "115/115 [==============================] - 3s 23ms/step - loss: 1.5758 - accuracy: 0.3788 - val_loss: 1.9343 - val_accuracy: 0.4183\n",
      "Epoch 16/100\n",
      "115/115 [==============================] - 3s 24ms/step - loss: 1.5576 - accuracy: 0.3833 - val_loss: 1.9295 - val_accuracy: 0.4401\n",
      "Epoch 17/100\n",
      "115/115 [==============================] - 3s 23ms/step - loss: 1.5450 - accuracy: 0.4024 - val_loss: 1.8911 - val_accuracy: 0.4170\n",
      "Epoch 18/100\n",
      "115/115 [==============================] - 3s 23ms/step - loss: 1.5228 - accuracy: 0.4109 - val_loss: 2.0280 - val_accuracy: 0.4658\n",
      "Epoch 19/100\n",
      "115/115 [==============================] - 3s 24ms/step - loss: 1.4903 - accuracy: 0.4203 - val_loss: 1.9996 - val_accuracy: 0.4571\n",
      "Epoch 20/100\n",
      "115/115 [==============================] - 3s 23ms/step - loss: 1.4699 - accuracy: 0.4323 - val_loss: 1.8606 - val_accuracy: 0.4661\n",
      "Epoch 21/100\n",
      "115/115 [==============================] - 3s 23ms/step - loss: 1.4477 - accuracy: 0.4418 - val_loss: 1.8763 - val_accuracy: 0.5099\n",
      "Epoch 22/100\n",
      "115/115 [==============================] - 3s 22ms/step - loss: 1.4173 - accuracy: 0.4485 - val_loss: 1.8420 - val_accuracy: 0.4991\n",
      "Epoch 23/100\n",
      "115/115 [==============================] - 3s 23ms/step - loss: 1.3904 - accuracy: 0.4594 - val_loss: 1.6960 - val_accuracy: 0.5268\n",
      "Epoch 24/100\n",
      "115/115 [==============================] - 3s 23ms/step - loss: 1.3647 - accuracy: 0.4711 - val_loss: 1.9632 - val_accuracy: 0.5549\n",
      "Epoch 25/100\n",
      "115/115 [==============================] - 3s 23ms/step - loss: 1.3472 - accuracy: 0.4807 - val_loss: 2.0407 - val_accuracy: 0.5443\n",
      "Epoch 26/100\n",
      "115/115 [==============================] - 3s 23ms/step - loss: 1.3236 - accuracy: 0.4965 - val_loss: 1.8913 - val_accuracy: 0.6078\n",
      "Epoch 27/100\n",
      "115/115 [==============================] - 3s 23ms/step - loss: 1.2984 - accuracy: 0.5093 - val_loss: 3.2373 - val_accuracy: 0.6555\n",
      "Epoch 28/100\n",
      "115/115 [==============================] - 3s 23ms/step - loss: 1.2688 - accuracy: 0.5213 - val_loss: 2.8069 - val_accuracy: 0.7054\n",
      "Epoch 29/100\n",
      "115/115 [==============================] - 3s 22ms/step - loss: 1.2571 - accuracy: 0.5335 - val_loss: 2.4000 - val_accuracy: 0.7140\n",
      "Epoch 30/100\n",
      "115/115 [==============================] - 3s 23ms/step - loss: 1.2369 - accuracy: 0.5452 - val_loss: 2.6497 - val_accuracy: 0.7228\n",
      "Epoch 31/100\n",
      "115/115 [==============================] - 3s 23ms/step - loss: 1.1783 - accuracy: 0.5739 - val_loss: 2.1742 - val_accuracy: 0.7345\n",
      "Epoch 32/100\n",
      "115/115 [==============================] - 3s 23ms/step - loss: 1.1476 - accuracy: 0.5888 - val_loss: 2.4990 - val_accuracy: 0.7368\n",
      "Epoch 33/100\n",
      "115/115 [==============================] - 3s 24ms/step - loss: 1.1415 - accuracy: 0.5865 - val_loss: 2.4753 - val_accuracy: 0.7239\n",
      "Epoch 34/100\n",
      "115/115 [==============================] - 3s 24ms/step - loss: 1.1230 - accuracy: 0.5943 - val_loss: 1.9636 - val_accuracy: 0.7236\n",
      "Epoch 35/100\n",
      "115/115 [==============================] - 3s 23ms/step - loss: 1.0950 - accuracy: 0.6038 - val_loss: 2.6288 - val_accuracy: 0.7440\n",
      "Epoch 36/100\n",
      "115/115 [==============================] - 3s 23ms/step - loss: 1.0890 - accuracy: 0.6057 - val_loss: 2.4512 - val_accuracy: 0.7465\n",
      "Epoch 37/100\n",
      "115/115 [==============================] - 3s 23ms/step - loss: 1.0821 - accuracy: 0.6088 - val_loss: 2.2720 - val_accuracy: 0.7427\n",
      "Epoch 38/100\n",
      "115/115 [==============================] - 3s 23ms/step - loss: 1.0550 - accuracy: 0.6156 - val_loss: 2.8636 - val_accuracy: 0.7533\n",
      "Epoch 39/100\n",
      "115/115 [==============================] - 3s 23ms/step - loss: 1.0366 - accuracy: 0.6232 - val_loss: 3.6614 - val_accuracy: 0.7514\n",
      "Epoch 40/100\n",
      "115/115 [==============================] - 3s 23ms/step - loss: 1.0424 - accuracy: 0.6187 - val_loss: 2.3850 - val_accuracy: 0.7451\n",
      "Epoch 41/100\n",
      "115/115 [==============================] - 3s 23ms/step - loss: 1.0144 - accuracy: 0.6353 - val_loss: 2.6984 - val_accuracy: 0.7200\n",
      "Epoch 42/100\n",
      "115/115 [==============================] - 3s 23ms/step - loss: 0.9907 - accuracy: 0.6445 - val_loss: 3.3570 - val_accuracy: 0.7496\n",
      "Epoch 43/100\n",
      "115/115 [==============================] - 3s 23ms/step - loss: 0.9793 - accuracy: 0.6512 - val_loss: 3.9340 - val_accuracy: 0.7479\n",
      "Epoch 44/100\n",
      "115/115 [==============================] - 3s 23ms/step - loss: 0.9156 - accuracy: 0.6764 - val_loss: 3.2263 - val_accuracy: 0.7509\n",
      "Epoch 45/100\n",
      "115/115 [==============================] - 3s 23ms/step - loss: 0.8540 - accuracy: 0.7004 - val_loss: 3.3668 - val_accuracy: 0.7424\n",
      "Epoch 46/100\n",
      "115/115 [==============================] - 3s 23ms/step - loss: 0.8240 - accuracy: 0.7143 - val_loss: 2.6592 - val_accuracy: 0.7450\n",
      "Epoch 47/100\n",
      "115/115 [==============================] - 3s 23ms/step - loss: 0.7774 - accuracy: 0.7387 - val_loss: 3.5229 - val_accuracy: 0.7530\n",
      "Epoch 48/100\n",
      "115/115 [==============================] - 3s 23ms/step - loss: 0.7365 - accuracy: 0.7505 - val_loss: 3.5266 - val_accuracy: 0.7560\n",
      "Epoch 49/100\n",
      "115/115 [==============================] - 3s 23ms/step - loss: 0.7231 - accuracy: 0.7533 - val_loss: 3.3338 - val_accuracy: 0.7570\n",
      "Epoch 50/100\n",
      "115/115 [==============================] - 3s 23ms/step - loss: 0.7248 - accuracy: 0.7496 - val_loss: 2.9640 - val_accuracy: 0.7525\n",
      "Epoch 51/100\n",
      "115/115 [==============================] - 3s 23ms/step - loss: 0.7042 - accuracy: 0.7551 - val_loss: 3.5667 - val_accuracy: 0.7572\n",
      "Epoch 52/100\n",
      "115/115 [==============================] - 3s 23ms/step - loss: 0.7024 - accuracy: 0.7556 - val_loss: 3.2423 - val_accuracy: 0.7611\n",
      "Epoch 53/100\n",
      "115/115 [==============================] - 3s 23ms/step - loss: 0.6877 - accuracy: 0.7639 - val_loss: 3.1739 - val_accuracy: 0.7596\n",
      "Epoch 54/100\n",
      "115/115 [==============================] - 3s 23ms/step - loss: 0.6642 - accuracy: 0.7717 - val_loss: 3.6246 - val_accuracy: 0.7614\n",
      "Epoch 55/100\n",
      "115/115 [==============================] - 3s 23ms/step - loss: 0.6523 - accuracy: 0.7830 - val_loss: 3.4884 - val_accuracy: 0.7577\n",
      "Epoch 56/100\n",
      "115/115 [==============================] - 3s 23ms/step - loss: 0.6469 - accuracy: 0.7844 - val_loss: 2.3722 - val_accuracy: 0.7260\n",
      "Epoch 57/100\n"
     ]
    },
    {
     "name": "stdout",
     "output_type": "stream",
     "text": [
      "115/115 [==============================] - 3s 23ms/step - loss: 0.6207 - accuracy: 0.7897 - val_loss: 3.8884 - val_accuracy: 0.7617\n",
      "Epoch 58/100\n",
      "115/115 [==============================] - 3s 23ms/step - loss: 0.6099 - accuracy: 0.7944 - val_loss: 3.8079 - val_accuracy: 0.7634\n",
      "Epoch 59/100\n",
      "115/115 [==============================] - 3s 23ms/step - loss: 0.6010 - accuracy: 0.7963 - val_loss: 3.3483 - val_accuracy: 0.7588\n",
      "Epoch 60/100\n",
      "115/115 [==============================] - 3s 23ms/step - loss: 0.6154 - accuracy: 0.7977 - val_loss: 3.9126 - val_accuracy: 0.7415\n",
      "Epoch 61/100\n",
      "115/115 [==============================] - 3s 23ms/step - loss: 0.6000 - accuracy: 0.8008 - val_loss: 3.8601 - val_accuracy: 0.7548\n",
      "Epoch 62/100\n",
      "115/115 [==============================] - 3s 23ms/step - loss: 0.5966 - accuracy: 0.8055 - val_loss: 4.9005 - val_accuracy: 0.7640\n",
      "Epoch 63/100\n",
      "115/115 [==============================] - 3s 23ms/step - loss: 0.6003 - accuracy: 0.7993 - val_loss: 2.8369 - val_accuracy: 0.7493\n",
      "Epoch 64/100\n",
      "115/115 [==============================] - 3s 23ms/step - loss: 0.5760 - accuracy: 0.8114 - val_loss: 3.7143 - val_accuracy: 0.7527\n",
      "Epoch 65/100\n",
      "115/115 [==============================] - 3s 23ms/step - loss: 0.5720 - accuracy: 0.8107 - val_loss: 3.7962 - val_accuracy: 0.7552\n",
      "Epoch 66/100\n",
      "115/115 [==============================] - 3s 23ms/step - loss: 0.5568 - accuracy: 0.8137 - val_loss: 4.2857 - val_accuracy: 0.7584\n",
      "Epoch 67/100\n",
      "115/115 [==============================] - 3s 23ms/step - loss: 0.5507 - accuracy: 0.8182 - val_loss: 4.7125 - val_accuracy: 0.7633\n",
      "Epoch 68/100\n",
      "115/115 [==============================] - 3s 23ms/step - loss: 0.5555 - accuracy: 0.8172 - val_loss: 3.7146 - val_accuracy: 0.7622\n",
      "Epoch 69/100\n",
      "115/115 [==============================] - 3s 23ms/step - loss: 0.5375 - accuracy: 0.8234 - val_loss: 3.9563 - val_accuracy: 0.7614\n",
      "Epoch 70/100\n",
      "115/115 [==============================] - 3s 23ms/step - loss: 0.5348 - accuracy: 0.8223 - val_loss: 5.4441 - val_accuracy: 0.7625\n",
      "Epoch 71/100\n",
      "115/115 [==============================] - 3s 23ms/step - loss: 0.5506 - accuracy: 0.8171 - val_loss: 4.1293 - val_accuracy: 0.7677\n",
      "Epoch 72/100\n",
      "115/115 [==============================] - 3s 23ms/step - loss: 0.5753 - accuracy: 0.8132 - val_loss: 4.1663 - val_accuracy: 0.7567\n",
      "Epoch 73/100\n",
      "115/115 [==============================] - 3s 23ms/step - loss: 0.5485 - accuracy: 0.8205 - val_loss: 3.9258 - val_accuracy: 0.7561\n",
      "Epoch 74/100\n",
      "115/115 [==============================] - 3s 23ms/step - loss: 0.5480 - accuracy: 0.8186 - val_loss: 5.1245 - val_accuracy: 0.7552\n",
      "Epoch 75/100\n",
      "115/115 [==============================] - 3s 23ms/step - loss: 0.5563 - accuracy: 0.8163 - val_loss: 3.1580 - val_accuracy: 0.7565\n",
      "Epoch 76/100\n",
      "115/115 [==============================] - 3s 23ms/step - loss: 0.5353 - accuracy: 0.8206 - val_loss: 3.2595 - val_accuracy: 0.7582\n",
      "Epoch 77/100\n",
      "115/115 [==============================] - 3s 23ms/step - loss: 0.5454 - accuracy: 0.8191 - val_loss: 4.5197 - val_accuracy: 0.7612\n",
      "Epoch 78/100\n",
      "115/115 [==============================] - 3s 23ms/step - loss: 0.5294 - accuracy: 0.8232 - val_loss: 2.9238 - val_accuracy: 0.7560\n",
      "Epoch 79/100\n",
      "115/115 [==============================] - 3s 23ms/step - loss: 0.5400 - accuracy: 0.8230 - val_loss: 2.8541 - val_accuracy: 0.7665\n",
      "Epoch 80/100\n",
      "115/115 [==============================] - 3s 22ms/step - loss: 0.5279 - accuracy: 0.8243 - val_loss: 2.5180 - val_accuracy: 0.7795\n",
      "Epoch 81/100\n",
      "115/115 [==============================] - 3s 23ms/step - loss: 0.5242 - accuracy: 0.8270 - val_loss: 4.9844 - val_accuracy: 0.7599\n",
      "Epoch 82/100\n",
      "115/115 [==============================] - 3s 23ms/step - loss: 0.5175 - accuracy: 0.8288 - val_loss: 3.1231 - val_accuracy: 0.7514\n",
      "Epoch 83/100\n",
      "115/115 [==============================] - 3s 23ms/step - loss: 0.5041 - accuracy: 0.8314 - val_loss: 3.3784 - val_accuracy: 0.7699\n",
      "Epoch 84/100\n",
      "115/115 [==============================] - 3s 23ms/step - loss: 0.4894 - accuracy: 0.8374 - val_loss: 3.6264 - val_accuracy: 0.7703\n",
      "Epoch 85/100\n",
      "115/115 [==============================] - 3s 23ms/step - loss: 0.4866 - accuracy: 0.8383 - val_loss: 4.1315 - val_accuracy: 0.7716\n",
      "Epoch 86/100\n",
      "115/115 [==============================] - 3s 23ms/step - loss: 0.4948 - accuracy: 0.8343 - val_loss: 3.7105 - val_accuracy: 0.7737\n",
      "Epoch 87/100\n",
      "115/115 [==============================] - 3s 23ms/step - loss: 0.4907 - accuracy: 0.8346 - val_loss: 3.7596 - val_accuracy: 0.7672\n",
      "Epoch 88/100\n",
      "115/115 [==============================] - 3s 23ms/step - loss: 0.4853 - accuracy: 0.8389 - val_loss: 3.7080 - val_accuracy: 0.7709\n",
      "Epoch 89/100\n",
      "115/115 [==============================] - 3s 23ms/step - loss: 0.4788 - accuracy: 0.8374 - val_loss: 3.7679 - val_accuracy: 0.7826\n",
      "Epoch 90/100\n",
      "115/115 [==============================] - 3s 23ms/step - loss: 0.4782 - accuracy: 0.8405 - val_loss: 3.8515 - val_accuracy: 0.7714\n",
      "Epoch 91/100\n",
      "115/115 [==============================] - 3s 23ms/step - loss: 0.4708 - accuracy: 0.8417 - val_loss: 4.1129 - val_accuracy: 0.7674\n",
      "Epoch 92/100\n",
      "115/115 [==============================] - 3s 23ms/step - loss: 0.4912 - accuracy: 0.8394 - val_loss: 4.8919 - val_accuracy: 0.7653\n",
      "Epoch 93/100\n",
      "115/115 [==============================] - 3s 23ms/step - loss: 0.4793 - accuracy: 0.8412 - val_loss: 3.8129 - val_accuracy: 0.7789\n",
      "Epoch 94/100\n",
      "115/115 [==============================] - 3s 23ms/step - loss: 0.4792 - accuracy: 0.8409 - val_loss: 3.9210 - val_accuracy: 0.7852\n",
      "Epoch 95/100\n",
      "115/115 [==============================] - 3s 23ms/step - loss: 0.5032 - accuracy: 0.8393 - val_loss: 4.8392 - val_accuracy: 0.7663\n",
      "Epoch 96/100\n",
      "115/115 [==============================] - 3s 23ms/step - loss: 0.4854 - accuracy: 0.8410 - val_loss: 1.9855 - val_accuracy: 0.7673\n",
      "Epoch 97/100\n",
      "115/115 [==============================] - 3s 23ms/step - loss: 0.4598 - accuracy: 0.8465 - val_loss: 3.2906 - val_accuracy: 0.7894\n",
      "Epoch 98/100\n",
      "115/115 [==============================] - 3s 23ms/step - loss: 0.4643 - accuracy: 0.8474 - val_loss: 3.5080 - val_accuracy: 0.7983\n",
      "Epoch 99/100\n",
      "115/115 [==============================] - 3s 23ms/step - loss: 0.4681 - accuracy: 0.8459 - val_loss: 3.1094 - val_accuracy: 0.7809\n",
      "Epoch 100/100\n",
      "115/115 [==============================] - 3s 22ms/step - loss: 0.4540 - accuracy: 0.8465 - val_loss: 3.7701 - val_accuracy: 0.7897\n"
     ]
    }
   ],
   "source": [
    "history = m.fit(\n",
    "    train_dataset,\n",
    "    epochs=100,\n",
    "    validation_data=test_dataset\n",
    ")"
   ]
  },
  {
   "cell_type": "code",
   "execution_count": 455,
   "metadata": {},
   "outputs": [
    {
     "data": {
      "image/png": "[encoded data removed]",
      "text/plain": [
       "<Figure size 432x288 with 1 Axes>"
      ]
     },
     "metadata": {
      "needs_background": "light"
     },
     "output_type": "display_data"
    }
   ],
   "source": [
    "plt.plot(history.history['accuracy'])\n",
    "plt.plot(history.history['val_accuracy'])\n",
    "\n",
    "plt.show()"
   ]
  },
  {
   "cell_type": "code",
   "execution_count": null,
   "metadata": {},
   "outputs": [],
   "source": []
  }
 ],
 "metadata": {
  "kernelspec": {
   "display_name": "Python 3",
   "language": "python",
   "name": "python3"
  },
  "language_info": {
   "codemirror_mode": {
    "name": "ipython",
    "version": 3
   },
   "file_extension": ".py",
   "mimetype": "text/x-python",
   "name": "python",
   "nbconvert_exporter": "python",
   "pygments_lexer": "ipython3",
   "version": "3.8.5"
  }
 },
 "nbformat": 4,
 "nbformat_minor": 4
}
